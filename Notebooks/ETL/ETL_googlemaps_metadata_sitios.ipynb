{
 "cells": [
  {
   "cell_type": "code",
   "execution_count": 1,
   "metadata": {},
   "outputs": [],
   "source": [
    "import pandas as pd\n",
    "import seaborn as sns\n",
    "import matplotlib.pyplot as plt\n",
    "import warnings # --> Filtro de advertencias para ignorarlas y mantener el código limpio de mensajes no deseados\n",
    "warnings.filterwarnings(\"ignore\")\n",
    "pd.set_option('display.max_colwidth', None)"
   ]
  },
  {
   "attachments": {},
   "cell_type": "markdown",
   "metadata": {},
   "source": [
    "----------------\n",
    "\n",
    "# ETL"
   ]
  },
  {
   "cell_type": "code",
   "execution_count": 2,
   "metadata": {},
   "outputs": [],
   "source": [
    "df1 = pd.read_json('../Datasets/Google maps/Google Maps/data-sitios_comercio_atributes/1.json', lines= True)"
   ]
  },
  {
   "cell_type": "code",
   "execution_count": 3,
   "metadata": {},
   "outputs": [],
   "source": [
    "df2 = pd.read_json('../Datasets/Google maps/Google Maps/data-sitios_comercio_atributes/2.json', lines=True)"
   ]
  },
  {
   "cell_type": "code",
   "execution_count": 4,
   "metadata": {},
   "outputs": [],
   "source": [
    "df3 = pd.read_json('../Datasets/Google maps/Google Maps/data-sitios_comercio_atributes/3.json', lines=True)"
   ]
  },
  {
   "cell_type": "code",
   "execution_count": 5,
   "metadata": {},
   "outputs": [],
   "source": [
    "df4 = pd.read_json('../Datasets/Google maps/Google Maps/data-sitios_comercio_atributes/4.json', lines=True)"
   ]
  },
  {
   "cell_type": "code",
   "execution_count": 6,
   "metadata": {},
   "outputs": [],
   "source": [
    "df5 = pd.read_json('../Datasets/Google maps/Google Maps/data-sitios_comercio_atributes/5.json', lines=True)"
   ]
  },
  {
   "cell_type": "code",
   "execution_count": 7,
   "metadata": {},
   "outputs": [],
   "source": [
    "df6 = pd.read_json('../Datasets/Google maps/Google Maps/data-sitios_comercio_atributes/6.json', lines=True)"
   ]
  },
  {
   "cell_type": "code",
   "execution_count": 8,
   "metadata": {},
   "outputs": [],
   "source": [
    "df7 = pd.read_json('../Datasets/Google maps/Google Maps/data-sitios_comercio_atributes/7.json', lines=True)"
   ]
  },
  {
   "cell_type": "code",
   "execution_count": 9,
   "metadata": {},
   "outputs": [],
   "source": [
    "df8 = pd.read_json('../Datasets/Google maps/Google Maps/data-sitios_comercio_atributes/8.json', lines=True)"
   ]
  },
  {
   "cell_type": "code",
   "execution_count": 10,
   "metadata": {},
   "outputs": [],
   "source": [
    "df9 = pd.read_json('../Datasets/Google maps/Google Maps/data-sitios_comercio_atributes/9.json', lines=True)"
   ]
  },
  {
   "cell_type": "code",
   "execution_count": 11,
   "metadata": {},
   "outputs": [],
   "source": [
    "df10 = pd.read_json('../Datasets/Google maps/Google Maps/data-sitios_comercio_atributes/10.json', lines=True)"
   ]
  },
  {
   "cell_type": "code",
   "execution_count": 12,
   "metadata": {},
   "outputs": [],
   "source": [
    "df11 = pd.read_json('../Datasets/Google maps/Google Maps/data-sitios_comercio_atributes/11.json', lines=True)"
   ]
  },
  {
   "cell_type": "code",
   "execution_count": 13,
   "metadata": {},
   "outputs": [],
   "source": [
    "dataframes = [df1, df2, df3, df4, df5, df6, df7, df8, df9, df10, df11]"
   ]
  },
  {
   "cell_type": "code",
   "execution_count": 14,
   "metadata": {},
   "outputs": [],
   "source": [
    "df = pd.concat(dataframes, axis=0, ignore_index=True)"
   ]
  },
  {
   "cell_type": "code",
   "execution_count": 15,
   "metadata": {},
   "outputs": [],
   "source": [
    "df_philadelphia = df[df['address'].str.contains('philadelphia', case=False, na=False)]"
   ]
  },
  {
   "cell_type": "code",
   "execution_count": 173,
   "metadata": {},
   "outputs": [],
   "source": [
    "#df_philadelphia.to_csv('df_metadata_sitios_philadelphia.csv', index=False)\n"
   ]
  },
  {
   "cell_type": "code",
   "execution_count": 174,
   "metadata": {},
   "outputs": [],
   "source": [
    "#df_philadelphia = pd.read_csv('df_metadata_sitios_philadelphia.csv')"
   ]
  },
  {
   "attachments": {},
   "cell_type": "markdown",
   "metadata": {},
   "source": [
    "## Caracteristicas y Nulos"
   ]
  },
  {
   "cell_type": "code",
   "execution_count": 16,
   "metadata": {},
   "outputs": [
    {
     "data": {
      "text/plain": [
       "(15131, 15)"
      ]
     },
     "execution_count": 16,
     "metadata": {},
     "output_type": "execute_result"
    }
   ],
   "source": [
    "df_philadelphia.shape"
   ]
  },
  {
   "cell_type": "code",
   "execution_count": 17,
   "metadata": {},
   "outputs": [
    {
     "data": {
      "text/plain": [
       "Index(['name', 'address', 'gmap_id', 'description', 'latitude', 'longitude',\n",
       "       'category', 'avg_rating', 'num_of_reviews', 'price', 'hours', 'MISC',\n",
       "       'state', 'relative_results', 'url'],\n",
       "      dtype='object')"
      ]
     },
     "execution_count": 17,
     "metadata": {},
     "output_type": "execute_result"
    }
   ],
   "source": [
    "df_philadelphia.columns"
   ]
  },
  {
   "cell_type": "markdown",
   "metadata": {},
   "source": [
    "## String vacios"
   ]
  },
  {
   "cell_type": "code",
   "execution_count": 18,
   "metadata": {},
   "outputs": [
    {
     "data": {
      "text/plain": [
       "name                0\n",
       "address             0\n",
       "gmap_id             0\n",
       "description         0\n",
       "latitude            0\n",
       "longitude           0\n",
       "category            0\n",
       "avg_rating          0\n",
       "num_of_reviews      0\n",
       "price               0\n",
       "hours               0\n",
       "MISC                0\n",
       "state               0\n",
       "relative_results    0\n",
       "url                 0\n",
       "dtype: int64"
      ]
     },
     "execution_count": 18,
     "metadata": {},
     "output_type": "execute_result"
    }
   ],
   "source": [
    "df_philadelphia.apply(lambda x: (x == \"\").sum())"
   ]
  },
  {
   "cell_type": "code",
   "execution_count": 19,
   "metadata": {},
   "outputs": [
    {
     "data": {
      "text/plain": [
       "name                    0\n",
       "address                 0\n",
       "gmap_id                 0\n",
       "description         13523\n",
       "latitude                0\n",
       "longitude               0\n",
       "category               99\n",
       "avg_rating              0\n",
       "num_of_reviews          0\n",
       "price               13312\n",
       "hours                3990\n",
       "MISC                 3537\n",
       "state                3817\n",
       "relative_results     1159\n",
       "url                     0\n",
       "dtype: int64"
      ]
     },
     "execution_count": 19,
     "metadata": {},
     "output_type": "execute_result"
    }
   ],
   "source": [
    "df_philadelphia.isnull().sum()"
   ]
  },
  {
   "cell_type": "code",
   "execution_count": 20,
   "metadata": {},
   "outputs": [],
   "source": [
    "# Eliminamos nulos de categorias ya que esos datos no nos van a servir\n",
    "df_philadelphia.dropna(subset=['category'], inplace=True)"
   ]
  },
  {
   "attachments": {},
   "cell_type": "markdown",
   "metadata": {},
   "source": [
    "## Duplicados"
   ]
  },
  {
   "cell_type": "code",
   "execution_count": 21,
   "metadata": {},
   "outputs": [
    {
     "name": "stdout",
     "output_type": "stream",
     "text": [
      "Columnas con diccionarios o listas: ['category', 'hours', 'MISC', 'relative_results']\n"
     ]
    }
   ],
   "source": [
    "# Identificar columnas con diccionarios o listas\n",
    "columns_with_dicts_or_lists = df_philadelphia.applymap(lambda x: isinstance(x, (dict, list))).any()\n",
    "\n",
    "# Filtrar los nombres de las columnas que contienen diccionarios o listas\n",
    "columns_with_dicts_or_lists = columns_with_dicts_or_lists[columns_with_dicts_or_lists].index.tolist()\n",
    "\n",
    "# Mostrar las columnas que contienen diccionarios o listas\n",
    "print(f\"Columnas con diccionarios o listas: {columns_with_dicts_or_lists}\")\n",
    "\n"
   ]
  },
  {
   "cell_type": "code",
   "execution_count": 22,
   "metadata": {},
   "outputs": [
    {
     "name": "stdout",
     "output_type": "stream",
     "text": [
      " 'address': 136\n",
      " 'avg_rating': 14991\n",
      " 'description': 13987\n",
      " 'gmap_id': 118\n",
      " 'latitude': 799\n",
      " 'longitude': 865\n",
      " 'name': 1441\n",
      " 'num_of_reviews': 14649\n",
      " 'price': 15024\n",
      " 'state': 14441\n",
      " 'url': 118\n"
     ]
    }
   ],
   "source": [
    "# Especificar las columnas a excluir\n",
    "columns_to_exclude = ['category', 'hours', 'relative_results', 'MISC']\n",
    "\n",
    "# Seleccionar las columnas a incluir en la búsqueda de duplicados\n",
    "columns_to_check = df_philadelphia.columns.difference(columns_to_exclude)\n",
    "\n",
    "# Contar los duplicados por columna\n",
    "for col in columns_to_check:\n",
    "    num_duplicados_col = df_philadelphia[col].duplicated().sum()\n",
    "    print(f\" '{col}': {num_duplicados_col}\")\n"
   ]
  },
  {
   "cell_type": "code",
   "execution_count": 23,
   "metadata": {},
   "outputs": [
    {
     "name": "stdout",
     "output_type": "stream",
     "text": [
      "Total de duplicados globales: 236\n"
     ]
    }
   ],
   "source": [
    "# Especificar las columnas a excluir\n",
    "columns_to_exclude = ['category', 'hours', 'relative_results', 'MISC']\n",
    "\n",
    "# Seleccionar las columnas a incluir en la búsqueda de duplicados\n",
    "columns_to_check = df_philadelphia.columns.difference(columns_to_exclude)\n",
    "\n",
    "# Verificar si existen duplicados globales basados en las columnas seleccionadas\n",
    "duplicados_globales = df_philadelphia.duplicated(subset=columns_to_check, keep=False)\n",
    "\n",
    "# Contar cuántos duplicados globales hay\n",
    "total_duplicados_globales = duplicados_globales.sum()\n",
    "\n",
    "print(f\"Total de duplicados globales: {total_duplicados_globales}\")\n"
   ]
  },
  {
   "cell_type": "code",
   "execution_count": 25,
   "metadata": {},
   "outputs": [
    {
     "name": "stdout",
     "output_type": "stream",
     "text": [
      "Total de filas después de eliminar duplicados: 14914\n"
     ]
    }
   ],
   "source": [
    "# Eliminar los duplicados globales basados en las columnas seleccionadas\n",
    "df_philadelphia_sin_duplicados = df_philadelphia.drop_duplicates(subset=columns_to_check, keep='first')\n",
    "\n",
    "# Verificar cuántas filas quedan después de eliminar los duplicados\n",
    "print(f\"Total de filas después de eliminar duplicados: {len(df_philadelphia_sin_duplicados)}\")\n"
   ]
  },
  {
   "cell_type": "code",
   "execution_count": 27,
   "metadata": {},
   "outputs": [
    {
     "data": {
      "text/plain": [
       "name                 object\n",
       "address              object\n",
       "gmap_id              object\n",
       "description          object\n",
       "latitude            float64\n",
       "longitude           float64\n",
       "category             object\n",
       "avg_rating          float64\n",
       "num_of_reviews        int64\n",
       "price                object\n",
       "hours                object\n",
       "MISC                 object\n",
       "state                object\n",
       "relative_results     object\n",
       "url                  object\n",
       "dtype: object"
      ]
     },
     "execution_count": 27,
     "metadata": {},
     "output_type": "execute_result"
    }
   ],
   "source": [
    "df_philadelphia.dtypes"
   ]
  },
  {
   "cell_type": "code",
   "execution_count": 28,
   "metadata": {},
   "outputs": [],
   "source": [
    "# Eliminacion de espacios al inicio y al final de la cadena de string\n",
    "df_philadelphia['name'] = df_philadelphia['name'].astype(str)\n",
    "df_philadelphia['name'] = df_philadelphia['name'].str.strip()"
   ]
  },
  {
   "cell_type": "code",
   "execution_count": 29,
   "metadata": {},
   "outputs": [],
   "source": [
    "df_philadelphia['address'] = df_philadelphia['address'].astype(str)\n",
    "df_philadelphia['address'] = df_philadelphia['address'].str.strip()"
   ]
  },
  {
   "cell_type": "code",
   "execution_count": 30,
   "metadata": {},
   "outputs": [
    {
     "data": {
      "text/plain": [
       "68         Bubble tea shop offering hot & cold versions, plus a variety of flavors & a simple snack menu.\n",
       "69                                                                                                   None\n",
       "70                                                                                                   None\n",
       "970                                                                                                  None\n",
       "972                                                                                                  None\n",
       "                                                        ...                                              \n",
       "3024233                                                                                              None\n",
       "3024244                                                                                              None\n",
       "3024981                Long-running chain serving signature breakfast items & a variety of coffee drinks.\n",
       "3024992                                                                                              None\n",
       "3025006                                                                                              None\n",
       "Name: description, Length: 15032, dtype: object"
      ]
     },
     "execution_count": 30,
     "metadata": {},
     "output_type": "execute_result"
    }
   ],
   "source": [
    "df_philadelphia['description']"
   ]
  },
  {
   "cell_type": "code",
   "execution_count": 31,
   "metadata": {},
   "outputs": [],
   "source": [
    "df_philadelphia['description'] = df_philadelphia['description'].astype(str)\n",
    "df_philadelphia['description'] = df_philadelphia['description'].str.strip()"
   ]
  },
  {
   "cell_type": "code",
   "execution_count": 32,
   "metadata": {},
   "outputs": [
    {
     "data": {
      "text/plain": [
       "68                                                                                                          [Restaurant]\n",
       "69                                                                                   [Bicycle Shop, Bicycle repair shop]\n",
       "70                                                [Bicycle Shop, Bicycle repair shop, Coffee shop, Sporting goods store]\n",
       "970                                                                                                   [Auto repair shop]\n",
       "972                                                      [Attorney, Criminal justice attorney, Personal injury attorney]\n",
       "                                                               ...                                                      \n",
       "3024233                                                      [Culinary school, Bakery, College, Pastry shop, Restaurant]\n",
       "3024244                                                                                                   [Dance school]\n",
       "3024981    [Coffee shop, Bagel shop, Bakery, Breakfast restaurant, Donut shop, Fast food restaurant, Takeout Restaurant]\n",
       "3024992                                                                                               [Bar & grill, Bar]\n",
       "3025006                                                        [Steak house, Fine dining restaurant, Seafood restaurant]\n",
       "Name: category, Length: 15032, dtype: object"
      ]
     },
     "execution_count": 32,
     "metadata": {},
     "output_type": "execute_result"
    }
   ],
   "source": [
    "df_philadelphia['category']"
   ]
  },
  {
   "cell_type": "code",
   "execution_count": 33,
   "metadata": {},
   "outputs": [],
   "source": [
    "df_philadelphia['category'] = df_philadelphia['category'].apply(lambda x: ', '.join(x) if isinstance(x, list) else str(x))\n",
    "\n",
    "\n"
   ]
  },
  {
   "cell_type": "code",
   "execution_count": 34,
   "metadata": {},
   "outputs": [],
   "source": [
    "df_philadelphia['category'] = df_philadelphia['category'].astype(str)\n",
    "df_philadelphia['category'] = df_philadelphia['category'].str.strip()"
   ]
  },
  {
   "cell_type": "code",
   "execution_count": 35,
   "metadata": {},
   "outputs": [
    {
     "data": {
      "text/plain": [
       "68                                                                                                          Restaurant\n",
       "69                                                                                   Bicycle Shop, Bicycle repair shop\n",
       "70                                                Bicycle Shop, Bicycle repair shop, Coffee shop, Sporting goods store\n",
       "970                                                                                                   Auto repair shop\n",
       "972                                                      Attorney, Criminal justice attorney, Personal injury attorney\n",
       "                                                              ...                                                     \n",
       "3024233                                                      Culinary school, Bakery, College, Pastry shop, Restaurant\n",
       "3024244                                                                                                   Dance school\n",
       "3024981    Coffee shop, Bagel shop, Bakery, Breakfast restaurant, Donut shop, Fast food restaurant, Takeout Restaurant\n",
       "3024992                                                                                               Bar & grill, Bar\n",
       "3025006                                                        Steak house, Fine dining restaurant, Seafood restaurant\n",
       "Name: category, Length: 15032, dtype: object"
      ]
     },
     "execution_count": 35,
     "metadata": {},
     "output_type": "execute_result"
    }
   ],
   "source": [
    "df_philadelphia['category']"
   ]
  },
  {
   "cell_type": "code",
   "execution_count": 36,
   "metadata": {},
   "outputs": [
    {
     "data": {
      "text/plain": [
       "array([None, '$', '$$', '$$$', '$$$$', '₩₩', '₩₩₩', '₩'], dtype=object)"
      ]
     },
     "execution_count": 36,
     "metadata": {},
     "output_type": "execute_result"
    }
   ],
   "source": [
    "df_philadelphia['price'].unique()"
   ]
  },
  {
   "cell_type": "code",
   "execution_count": 37,
   "metadata": {},
   "outputs": [],
   "source": [
    "df_philadelphia.drop(columns=['price'], inplace= True)"
   ]
  },
  {
   "cell_type": "code",
   "execution_count": 38,
   "metadata": {},
   "outputs": [],
   "source": [
    "pd.set_option('display.max_colwidth', None)"
   ]
  },
  {
   "cell_type": "code",
   "execution_count": 40,
   "metadata": {},
   "outputs": [],
   "source": [
    "df_philadelphia['relative_results'] = df_philadelphia['relative_results'].apply(lambda x: ', '.join(x) if isinstance(x, list) else x)\n"
   ]
  },
  {
   "cell_type": "code",
   "execution_count": 41,
   "metadata": {},
   "outputs": [
    {
     "data": {
      "text/plain": [
       "68                                                0x89c6c62a40f4b733:0x73bfeec1898f272b, 0x89c6d71eb1190821:0x31bebc9b0a087ebc, 0x89c6c62a8b1da2cd:0xa1f0f7939020c2e1, 0x89c6c62a0572343f:0xf225afb6cd0ac40f\n",
       "69          0x89c6c623342d6197:0x70233738cd92d9b, 0x89c6c63ade202695:0x242762f97f9a5d35, 0x89c6c61ee8a3f66f:0x4c05fe1e923a7bf4, 0x89c6c60f7abc3071:0xe1a74583216cf069, 0x89c6c640b99b6e73:0x8705b80be823f27f\n",
       "70                                                                                                                              0x89c6c7d1a79d4103:0x2476b0fe30eb0871, 0x89c6c7d84645270d:0x34c1faf6ca84b9a9\n",
       "970        0x89c6c61d271e254b:0xe6a43cb5d72adb16, 0x89c6c61ef5ea56b7:0x21ea24499ee00866, 0x89c6c6192406d463:0x53baca868c0ac8a7, 0x89c6c7937d6a7a79:0x120a979f70d78e96, 0x89c6c6a21371b7f7:0x817b30ad4395fc04\n",
       "972         0x89c6c631c4409039:0xe0ad1e9d5b7a2846, 0x89c6cc751add9c0b:0x6392e65505c055db, 0x89c6c6255756e4d9:0x33f05f34acffd98, 0x89c6c62e270a51cb:0x282b37513cad2487, 0x89c6c631ed937e1f:0x710c027ce66b89ec\n",
       "                                                                                                         ...                                                                                                \n",
       "3024233    0x89c6c61737779d51:0x4f4e200f9df43655, 0x89c6c884f2cf4411:0xba8f0de380edc6e8, 0x89c6cc74167da60d:0xc78e93b2ae12b029, 0x89c6c6295638e5cd:0x99609728d5deac05, 0x89c6b8797e40f0c7:0x7d8c422672d4e98c\n",
       "3024244                                           0x89c6c6377721367d:0xb2ae4c8a7d7a6e7d, 0x89c6c6f9930f49b5:0x20a93a302ccd93f3, 0x89c6c086717f24d7:0xfa74626be2fbd3fc, 0x89c6b8bfdcaeaaab:0xed650d18b5f9c81a\n",
       "3024981                                           0x89c6c6d16baf5e31:0x85b50cbaee46e6fb, 0x89c6c65564960bf3:0x7b5d4c0845c5248f, 0x89c6c6dd85f7f44d:0xf9e824b461721cbe, 0x89c6c160b39f1acb:0x48e9a23ce88b5522\n",
       "3024992     0x89c6b9e802822b75:0x5dedce940b31450b, 0x89c6b99b229914c7:0xc1b4e6602cb7e1d1, 0x89c6b97a3c1da3a7:0xf571a94234751fae, 0x89c6b9a33e774541:0xcafbbffb36e72fc, 0x89c6b99ec3455dc1:0xe48525f753c56ec8\n",
       "3025006                                                                                                                         0x89c6c7af1a55f4f9:0x589bb93addf7fd95, 0x89c6cbd067a3e745:0x388e665c8dcecf2e\n",
       "Name: relative_results, Length: 15032, dtype: object"
      ]
     },
     "execution_count": 41,
     "metadata": {},
     "output_type": "execute_result"
    }
   ],
   "source": [
    "df_philadelphia['relative_results']"
   ]
  },
  {
   "cell_type": "code",
   "execution_count": 42,
   "metadata": {},
   "outputs": [
    {
     "data": {
      "text/plain": [
       "68         https://www.google.com/maps/place//data=!4m2!3m1!1s0x89c6c89efcaed69d:0xded973f6033e7dba?authuser=-1&hl=en&gl=us\n",
       "69         https://www.google.com/maps/place//data=!4m2!3m1!1s0x89c6c63c8cd87141:0x54d0d283872eecbb?authuser=-1&hl=en&gl=us\n",
       "70         https://www.google.com/maps/place//data=!4m2!3m1!1s0x89c6c715d1821fe3:0x9cfa8308c0ce2289?authuser=-1&hl=en&gl=us\n",
       "970        https://www.google.com/maps/place//data=!4m2!3m1!1s0x89c6c61c782d4239:0xee40c6ec66db8e92?authuser=-1&hl=en&gl=us\n",
       "972        https://www.google.com/maps/place//data=!4m2!3m1!1s0x89c6c6316dcbf9cf:0xa14cd710255db485?authuser=-1&hl=en&gl=us\n",
       "                                                                 ...                                                       \n",
       "3024233    https://www.google.com/maps/place//data=!4m2!3m1!1s0x89c6c6fa06c8981b:0x66ec244795b4378f?authuser=-1&hl=en&gl=us\n",
       "3024244    https://www.google.com/maps/place//data=!4m2!3m1!1s0x89c6c6eeed5aad33:0xfd73f1ebc99b9da7?authuser=-1&hl=en&gl=us\n",
       "3024981    https://www.google.com/maps/place//data=!4m2!3m1!1s0x89c6c4072624d2a9:0x4437b2d55e9a5811?authuser=-1&hl=en&gl=us\n",
       "3024992    https://www.google.com/maps/place//data=!4m2!3m1!1s0x89c6b993431d9a19:0xea378de3c317996e?authuser=-1&hl=en&gl=us\n",
       "3025006    https://www.google.com/maps/place//data=!4m2!3m1!1s0x89c6c74f43a49b55:0x6be6995921c58b12?authuser=-1&hl=en&gl=us\n",
       "Name: url, Length: 15032, dtype: object"
      ]
     },
     "execution_count": 42,
     "metadata": {},
     "output_type": "execute_result"
    }
   ],
   "source": [
    "df_philadelphia['url']"
   ]
  },
  {
   "cell_type": "code",
   "execution_count": 43,
   "metadata": {},
   "outputs": [
    {
     "name": "stdout",
     "output_type": "stream",
     "text": [
      "Total de duplicados globales: 236\n"
     ]
    }
   ],
   "source": [
    "# Especificar las columnas a excluir\n",
    "columns_to_exclude = ['hours', 'MISC']\n",
    "\n",
    "# Seleccionar las columnas a incluir en la búsqueda de duplicados\n",
    "columns_to_check = df_philadelphia.columns.difference(columns_to_exclude)\n",
    "\n",
    "# Verificar si existen duplicados globales basados en las columnas seleccionadas\n",
    "duplicados_globales = df_philadelphia.duplicated(subset=columns_to_check, keep=False)\n",
    "\n",
    "# Contar cuántos duplicados globales hay\n",
    "total_duplicados_globales = duplicados_globales.sum()\n",
    "\n",
    "print(f\"Total de duplicados globales: {total_duplicados_globales}\")"
   ]
  },
  {
   "cell_type": "code",
   "execution_count": 46,
   "metadata": {},
   "outputs": [],
   "source": [
    "# Eliminar duplicados globales basados en las columnas seleccionadas\n",
    "df_philadelphia_sin_duplicados = df_philadelphia.drop_duplicates(subset=columns_to_check, keep='first', inplace=True)\n",
    "\n",
    "\n"
   ]
  },
  {
   "cell_type": "code",
   "execution_count": 47,
   "metadata": {},
   "outputs": [],
   "source": [
    "# Renombrar las columnas 'name' y 'categories'\n",
    "df_philadelphia.rename(columns={'name': 'name_business', 'categories': 'categories_google'}, inplace=True)"
   ]
  },
  {
   "cell_type": "code",
   "execution_count": 48,
   "metadata": {},
   "outputs": [
    {
     "data": {
      "text/plain": [
       "Index(['name_business', 'address', 'gmap_id', 'description', 'latitude',\n",
       "       'longitude', 'category', 'avg_rating', 'num_of_reviews', 'hours',\n",
       "       'MISC', 'state', 'relative_results', 'url'],\n",
       "      dtype='object')"
      ]
     },
     "execution_count": 48,
     "metadata": {},
     "output_type": "execute_result"
    }
   ],
   "source": [
    "df_philadelphia.columns"
   ]
  },
  {
   "cell_type": "code",
   "execution_count": 51,
   "metadata": {},
   "outputs": [
    {
     "data": {
      "text/plain": [
       "68                                      Vivi Bubble Tea\n",
       "69                                 Kater Street Bicycle\n",
       "70               Cadence Cycling and Cafe - Center City\n",
       "970                      Rizzio's General Auto Rpr Shop\n",
       "972                                Lipschutz & Friedman\n",
       "                               ...                     \n",
       "3024233    The Restaurant School at Walnut Hill College\n",
       "3024244                      Take the Lead Dance Studio\n",
       "3024981                                         Dunkin'\n",
       "3024992                                   Reuben's Marc\n",
       "3025006                                        Steak 48\n",
       "Name: name_business, Length: 14914, dtype: object"
      ]
     },
     "execution_count": 51,
     "metadata": {},
     "output_type": "execute_result"
    }
   ],
   "source": [
    "df_philadelphia['name_business']"
   ]
  },
  {
   "cell_type": "code",
   "execution_count": 52,
   "metadata": {},
   "outputs": [
    {
     "data": {
      "text/plain": [
       "68                                        Vivi Bubble Tea, 701 S 5th St, Philadelphia, PA 19147\n",
       "69                                  Kater Street Bicycle, 609 S 16th St, Philadelphia, PA 19146\n",
       "70                Cadence Cycling and Cafe - Center City, 201 S 25th St, Philadelphia, PA 19103\n",
       "970                         Rizzio's General Auto Rpr Shop, 916 Reed St, Philadelphia, PA 19147\n",
       "972           Lipschutz & Friedman, 1800 John F Kennedy Blvd 11th floor, Philadelphia, PA 19103\n",
       "                                                   ...                                         \n",
       "3024233    The Restaurant School at Walnut Hill College, 4207 Walnut St, Philadelphia, PA 19104\n",
       "3024244                        Take the Lead Dance Studio, 4701 Pine St, Philadelphia, PA 19143\n",
       "3024981                                       Dunkin', 7000 Chester Ave, Philadelphia, PA 19142\n",
       "3024992                                 Reuben's Marc, 8131 Stenton Ave, Philadelphia, PA 19150\n",
       "3025006                                        Steak 48, 260 S Broad St, Philadelphia, PA 19102\n",
       "Name: address, Length: 14914, dtype: object"
      ]
     },
     "execution_count": 52,
     "metadata": {},
     "output_type": "execute_result"
    }
   ],
   "source": [
    "df_philadelphia['address']"
   ]
  },
  {
   "cell_type": "code",
   "execution_count": 53,
   "metadata": {},
   "outputs": [],
   "source": [
    "# Definir una función para procesar cada fila\n",
    "def process_address(address):\n",
    "    # Dividir por comas\n",
    "    parts = [part.strip() for part in address.split(',')]\n",
    "    \n",
    "    # Mantener solo la segunda parte como dirección y el código postal (último valor)\n",
    "    street_address = parts[1] if len(parts) > 1 else None\n",
    "    postal_code = parts[-1].replace('PA', '').strip() if len(parts) > 1 else None\n",
    "    \n",
    "    return street_address, postal_code\n",
    "\n",
    "# Aplicar la función a la columna 'address'\n",
    "df_philadelphia[['street_address', 'postal_code']] = df_philadelphia['address'].apply(process_address).apply(pd.Series)\n",
    "\n",
    "# Eliminar la columna original y la columna 'Philadelphia'\n",
    "df_philadelphia.drop(columns=['address'], inplace=True)"
   ]
  },
  {
   "cell_type": "code",
   "execution_count": 54,
   "metadata": {},
   "outputs": [
    {
     "data": {
      "text/plain": [
       "Index(['name_business', 'gmap_id', 'description', 'latitude', 'longitude',\n",
       "       'category', 'avg_rating', 'num_of_reviews', 'hours', 'MISC', 'state',\n",
       "       'relative_results', 'url', 'street_address', 'postal_code'],\n",
       "      dtype='object')"
      ]
     },
     "execution_count": 54,
     "metadata": {},
     "output_type": "execute_result"
    }
   ],
   "source": [
    "df_philadelphia.columns"
   ]
  },
  {
   "cell_type": "code",
   "execution_count": null,
   "metadata": {},
   "outputs": [],
   "source": []
  },
  {
   "cell_type": "code",
   "execution_count": null,
   "metadata": {},
   "outputs": [],
   "source": []
  }
 ],
 "metadata": {
  "kernelspec": {
   "display_name": "Python 3",
   "language": "python",
   "name": "python3"
  },
  "language_info": {
   "codemirror_mode": {
    "name": "ipython",
    "version": 3
   },
   "file_extension": ".py",
   "mimetype": "text/x-python",
   "name": "python",
   "nbconvert_exporter": "python",
   "pygments_lexer": "ipython3",
   "version": "3.10.5"
  },
  "orig_nbformat": 4,
  "vscode": {
   "interpreter": {
    "hash": "40ea231ce006ed65b013ba3e9b5a48267321b4d32b910ea3a649228a606377c3"
   }
  }
 },
 "nbformat": 4,
 "nbformat_minor": 2
}
