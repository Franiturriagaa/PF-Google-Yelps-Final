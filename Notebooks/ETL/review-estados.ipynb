{
 "cells": [
  {
   "cell_type": "code",
   "execution_count": 1,
   "metadata": {},
   "outputs": [],
   "source": [
    "import pandas as pd\n",
    "import warnings # --> Filtro de advertencias para ignorarlas y mantener el código limpio de mensajes no deseados\n",
    "warnings.filterwarnings(\"ignore\")\n",
    "pd.set_option('display.max_colwidth', None)\n",
    "\n",
    "df1 = pd.read_json('../../Data/reviews-estados/review-Pennsylvania/1.json', lines= True)\n",
    "df2 = pd.read_json('../../Data/reviews-estados/review-Pennsylvania/2.json', lines= True)\n",
    "df3 = pd.read_json('../../Data/reviews-estados/review-Pennsylvania/3.json', lines= True)\n",
    "df4 = pd.read_json('../../Data/reviews-estados/review-Pennsylvania/4.json', lines= True)\n",
    "df5 = pd.read_json('../../Data/reviews-estados/review-Pennsylvania/5.json', lines= True)\n",
    "df6 = pd.read_json('../../Data/reviews-estados/review-Pennsylvania/6.json', lines= True)\n",
    "df7 = pd.read_json('../../Data/reviews-estados/review-Pennsylvania/7.json', lines= True)\n",
    "df8 = pd.read_json('../../Data/reviews-estados/review-Pennsylvania/8.json', lines= True)\n",
    "df9 = pd.read_json('../../Data/reviews-estados/review-Pennsylvania/9.json', lines= True)\n",
    "df10 = pd.read_json('../../Data/reviews-estados/review-Pennsylvania/10.json', lines= True)\n",
    "df11 = pd.read_json('../../Data/reviews-estados/review-Pennsylvania/11.json', lines= True)\n",
    "df12 = pd.read_json('../../Data/reviews-estados/review-Pennsylvania/12.json', lines= True)\n",
    "df13 = pd.read_json('../../Data/reviews-estados/review-Pennsylvania/13.json', lines= True)\n",
    "df14 = pd.read_json('../../Data/reviews-estados/review-Pennsylvania/14.json', lines= True)\n",
    "df15 = pd.read_json('../../Data/reviews-estados/review-Pennsylvania/15.json', lines= True)\n",
    "df16 = pd.read_json('../../Data/reviews-estados/review-Pennsylvania/16.json', lines= True)"
   ]
  },
  {
   "cell_type": "code",
   "execution_count": 2,
   "metadata": {},
   "outputs": [],
   "source": [
    "dataframes = [df1, df2, df3, df4, df5, df6, df7, df8, df9, df10, df11]"
   ]
  },
  {
   "cell_type": "code",
   "execution_count": 3,
   "metadata": {},
   "outputs": [],
   "source": [
    "df = pd.concat(dataframes, axis=0, ignore_index=True)"
   ]
  },
  {
   "cell_type": "code",
   "execution_count": 7,
   "metadata": {},
   "outputs": [],
   "source": [
    "# Convertir 'time' de Unix Timestamp a una fecha legible\n",
    "df['time'] = pd.to_datetime(df['time'], unit='ms')\n",
    "\n",
    "# Eliminar filas con valores nulos en columnas importantes\n",
    "df = df.dropna(subset=['name', 'rating', 'text'])\n",
    "\n",
    "# Limpiar el texto en 'text'\n",
    "df['text'] = df['text'].str.replace(r'\\[.*?\\]', '', regex=True)  # Elimina URLs\n",
    "df['text'] = df['text'].str.replace(r'\\s+', ' ', regex=True)  # Reemplaza espacios múltiples por uno solo\n",
    "\n",
    "# Ejemplo: convertir la columna 'rating' a tipo numérico\n",
    "df['rating'] = pd.to_numeric(df['rating'], errors='coerce')\n"
   ]
  },
  {
   "cell_type": "code",
   "execution_count": 9,
   "metadata": {},
   "outputs": [
    {
     "name": "stdout",
     "output_type": "stream",
     "text": [
      "user_id         0\n",
      "name            0\n",
      "time            0\n",
      "rating          0\n",
      "text            0\n",
      "pics       904201\n",
      "resp       796948\n",
      "gmap_id         0\n",
      "dtype: int64\n"
     ]
    }
   ],
   "source": [
    "# Verificar valores nulos\n",
    "print(df.isnull().sum())\n"
   ]
  },
  {
   "cell_type": "code",
   "execution_count": 16,
   "metadata": {},
   "outputs": [
    {
     "name": "stdout",
     "output_type": "stream",
     "text": [
      "        user_id               name                    time  rating  \\\n",
      "0  1.049447e+20    Jaron Whitfield 2018-02-04 08:09:22.839       5   \n",
      "1  1.176097e+20  Jonathan McCarthy 2016-10-12 12:44:51.163       5   \n",
      "2  1.105632e+20          Rocky Kev 2012-06-04 16:22:25.578       5   \n",
      "3  1.128960e+20        Josep Valls 2013-03-14 18:35:10.554       5   \n",
      "4  1.106197e+20     Timaree Schmit 2019-01-29 21:45:29.760       5   \n",
      "\n",
      "                                                                                                                                                                                                                                                                                text  \\\n",
      "0  Joe is quite unique of his line of work, he assists with problems with bicycles thoroughly and has a variety of parts that I could use in the future. Highly recommend on bringing your bicycle into this bike shop. The man knows and sees, and does an excellent job well-done!   \n",
      "1       For such a small place their impact on my life is huge! They keep my family's bikes running with repairs often dropped off and picked up same day! We have 4 kids on bikes back and forth to school each day, so their fast and perfect work is such a blessing. Great find!   \n",
      "2                                                                          I usually give them a call before I stop by to see if they have it in store. Bought a few random bike supplies from them. They were affordable, and very knowledgeable about the product. Very nice guys!   \n",
      "3                                             My bike had been sitting outdoors for a good while and I did not have any expectations of ever being able to really ride it again. They proved me wrong. I walked in with a rusty piece of metal and got out with a wonderful vehicle.   \n",
      "4                                                                                                                                                                                                                    Always an easy experience. Service is knowledgeable and speedy.   \n",
      "\n",
      "   resp                                gmap_id  \n",
      "0  None  0x89c6c63c8cd87141:0x54d0d283872eecbb  \n",
      "1  None  0x89c6c63c8cd87141:0x54d0d283872eecbb  \n",
      "2  None  0x89c6c63c8cd87141:0x54d0d283872eecbb  \n",
      "3  None  0x89c6c63c8cd87141:0x54d0d283872eecbb  \n",
      "4  None  0x89c6c63c8cd87141:0x54d0d283872eecbb  \n"
     ]
    }
   ],
   "source": [
    "# Convertir diccionarios a cadenas de texto en todas las columnas\n",
    "for col in df.columns:\n",
    "    if df[col].apply(lambda x: isinstance(x, dict)).any():\n",
    "        df[col] = df[col].apply(lambda x: str(x) if isinstance(x, dict) else x)\n",
    "\n",
    "# Verificar la conversión\n",
    "print(df.head())"
   ]
  },
  {
   "cell_type": "code",
   "execution_count": 17,
   "metadata": {},
   "outputs": [],
   "source": [
    "# Eliminar duplicados\n",
    "df = df.drop_duplicates()"
   ]
  },
  {
   "cell_type": "code",
   "execution_count": 19,
   "metadata": {},
   "outputs": [
    {
     "name": "stdout",
     "output_type": "stream",
     "text": [
      "user_id           float64\n",
      "name               object\n",
      "time       datetime64[ns]\n",
      "rating              int64\n",
      "text               object\n",
      "resp               object\n",
      "gmap_id            object\n",
      "dtype: object\n"
     ]
    }
   ],
   "source": [
    "print(df.dtypes)"
   ]
  },
  {
   "cell_type": "code",
   "execution_count": 20,
   "metadata": {},
   "outputs": [],
   "source": [
    "# Cambiar el tipo de datos para `user_id` a `int64`\n",
    "df['user_id'] = df['user_id'].astype('int64')\n",
    "\n",
    "# Cambiar el tipo de datos para `resp` y `gmap_id` a `string`\n",
    "df['resp'] = df['resp'].astype('string')\n",
    "df['gmap_id'] = df['gmap_id'].astype('string')\n"
   ]
  },
  {
   "cell_type": "code",
   "execution_count": 22,
   "metadata": {},
   "outputs": [],
   "source": [
    "# Eliminar la columna 'resp'\n",
    "df = df.drop(columns=['resp'])"
   ]
  },
  {
   "cell_type": "code",
   "execution_count": 23,
   "metadata": {},
   "outputs": [
    {
     "data": {
      "text/html": [
       "<div>\n",
       "<style scoped>\n",
       "    .dataframe tbody tr th:only-of-type {\n",
       "        vertical-align: middle;\n",
       "    }\n",
       "\n",
       "    .dataframe tbody tr th {\n",
       "        vertical-align: top;\n",
       "    }\n",
       "\n",
       "    .dataframe thead th {\n",
       "        text-align: right;\n",
       "    }\n",
       "</style>\n",
       "<table border=\"1\" class=\"dataframe\">\n",
       "  <thead>\n",
       "    <tr style=\"text-align: right;\">\n",
       "      <th></th>\n",
       "      <th>user_id</th>\n",
       "      <th>name</th>\n",
       "      <th>time</th>\n",
       "      <th>rating</th>\n",
       "      <th>text</th>\n",
       "      <th>gmap_id</th>\n",
       "    </tr>\n",
       "  </thead>\n",
       "  <tbody>\n",
       "    <tr>\n",
       "      <th>0</th>\n",
       "      <td>-9223372036854775808</td>\n",
       "      <td>Jaron Whitfield</td>\n",
       "      <td>2018-02-04 08:09:22.839</td>\n",
       "      <td>5</td>\n",
       "      <td>Joe is quite unique of his line of work, he assists with problems with bicycles thoroughly and has a variety of parts that I could use in the future. Highly recommend on bringing your bicycle into this bike shop. The man knows and sees, and does an excellent job well-done!</td>\n",
       "      <td>0x89c6c63c8cd87141:0x54d0d283872eecbb</td>\n",
       "    </tr>\n",
       "    <tr>\n",
       "      <th>1</th>\n",
       "      <td>-9223372036854775808</td>\n",
       "      <td>Jonathan McCarthy</td>\n",
       "      <td>2016-10-12 12:44:51.163</td>\n",
       "      <td>5</td>\n",
       "      <td>For such a small place their impact on my life is huge! They keep my family's bikes running with repairs often dropped off and picked up same day! We have 4 kids on bikes back and forth to school each day, so their fast and perfect work is such a blessing. Great find!</td>\n",
       "      <td>0x89c6c63c8cd87141:0x54d0d283872eecbb</td>\n",
       "    </tr>\n",
       "    <tr>\n",
       "      <th>2</th>\n",
       "      <td>-9223372036854775808</td>\n",
       "      <td>Rocky Kev</td>\n",
       "      <td>2012-06-04 16:22:25.578</td>\n",
       "      <td>5</td>\n",
       "      <td>I usually give them a call before I stop by to see if they have it in store. Bought a few random bike supplies from them. They were affordable, and very knowledgeable about the product. Very nice guys!</td>\n",
       "      <td>0x89c6c63c8cd87141:0x54d0d283872eecbb</td>\n",
       "    </tr>\n",
       "    <tr>\n",
       "      <th>3</th>\n",
       "      <td>-9223372036854775808</td>\n",
       "      <td>Josep Valls</td>\n",
       "      <td>2013-03-14 18:35:10.554</td>\n",
       "      <td>5</td>\n",
       "      <td>My bike had been sitting outdoors for a good while and I did not have any expectations of ever being able to really ride it again. They proved me wrong. I walked in with a rusty piece of metal and got out with a wonderful vehicle.</td>\n",
       "      <td>0x89c6c63c8cd87141:0x54d0d283872eecbb</td>\n",
       "    </tr>\n",
       "    <tr>\n",
       "      <th>4</th>\n",
       "      <td>-9223372036854775808</td>\n",
       "      <td>Timaree Schmit</td>\n",
       "      <td>2019-01-29 21:45:29.760</td>\n",
       "      <td>5</td>\n",
       "      <td>Always an easy experience. Service is knowledgeable and speedy.</td>\n",
       "      <td>0x89c6c63c8cd87141:0x54d0d283872eecbb</td>\n",
       "    </tr>\n",
       "    <tr>\n",
       "      <th>...</th>\n",
       "      <td>...</td>\n",
       "      <td>...</td>\n",
       "      <td>...</td>\n",
       "      <td>...</td>\n",
       "      <td>...</td>\n",
       "      <td>...</td>\n",
       "    </tr>\n",
       "    <tr>\n",
       "      <th>1649964</th>\n",
       "      <td>-9223372036854775808</td>\n",
       "      <td>Angelo Rodriguez</td>\n",
       "      <td>2017-09-06 22:31:41.907</td>\n",
       "      <td>5</td>\n",
       "      <td>(Translated by Google) get busy (Original) verg busy</td>\n",
       "      <td>0x89c6b7ca949cc489:0xc23f5b2bc886c034</td>\n",
       "    </tr>\n",
       "    <tr>\n",
       "      <th>1649965</th>\n",
       "      <td>-9223372036854775808</td>\n",
       "      <td>mario amaro</td>\n",
       "      <td>2017-08-21 04:31:59.857</td>\n",
       "      <td>1</td>\n",
       "      <td>(Translated by Google) Not hosent people (Original) Not hosent people</td>\n",
       "      <td>0x89c6b7ca949cc489:0xc23f5b2bc886c034</td>\n",
       "    </tr>\n",
       "    <tr>\n",
       "      <th>1649997</th>\n",
       "      <td>-9223372036854775808</td>\n",
       "      <td>daimonion sankaita</td>\n",
       "      <td>2021-04-30 18:01:47.311</td>\n",
       "      <td>1</td>\n",
       "      <td>Horrible store don't waste your time cuz if you do they just might not be open because they go on lunch at random times.</td>\n",
       "      <td>0x89c6b930900c508b:0xf87086b581c866fb</td>\n",
       "    </tr>\n",
       "    <tr>\n",
       "      <th>1649998</th>\n",
       "      <td>-9223372036854775808</td>\n",
       "      <td>William Chandler Jr</td>\n",
       "      <td>2021-02-20 21:51:51.695</td>\n",
       "      <td>5</td>\n",
       "      <td>Very specific boutique. This is a solid store with a great combination of games and figures.</td>\n",
       "      <td>0x89c6b930900c508b:0xf87086b581c866fb</td>\n",
       "    </tr>\n",
       "    <tr>\n",
       "      <th>1649999</th>\n",
       "      <td>-9223372036854775808</td>\n",
       "      <td>Sonnygee's BBQ</td>\n",
       "      <td>2020-11-20 17:52:39.324</td>\n",
       "      <td>5</td>\n",
       "      <td>I'm so blessed to get a PS5</td>\n",
       "      <td>0x89c6b930900c508b:0xf87086b581c866fb</td>\n",
       "    </tr>\n",
       "  </tbody>\n",
       "</table>\n",
       "<p>910611 rows × 6 columns</p>\n",
       "</div>"
      ],
      "text/plain": [
       "                     user_id                 name                    time  \\\n",
       "0       -9223372036854775808      Jaron Whitfield 2018-02-04 08:09:22.839   \n",
       "1       -9223372036854775808    Jonathan McCarthy 2016-10-12 12:44:51.163   \n",
       "2       -9223372036854775808            Rocky Kev 2012-06-04 16:22:25.578   \n",
       "3       -9223372036854775808          Josep Valls 2013-03-14 18:35:10.554   \n",
       "4       -9223372036854775808       Timaree Schmit 2019-01-29 21:45:29.760   \n",
       "...                      ...                  ...                     ...   \n",
       "1649964 -9223372036854775808     Angelo Rodriguez 2017-09-06 22:31:41.907   \n",
       "1649965 -9223372036854775808          mario amaro 2017-08-21 04:31:59.857   \n",
       "1649997 -9223372036854775808   daimonion sankaita 2021-04-30 18:01:47.311   \n",
       "1649998 -9223372036854775808  William Chandler Jr 2021-02-20 21:51:51.695   \n",
       "1649999 -9223372036854775808       Sonnygee's BBQ 2020-11-20 17:52:39.324   \n",
       "\n",
       "         rating  \\\n",
       "0             5   \n",
       "1             5   \n",
       "2             5   \n",
       "3             5   \n",
       "4             5   \n",
       "...         ...   \n",
       "1649964       5   \n",
       "1649965       1   \n",
       "1649997       1   \n",
       "1649998       5   \n",
       "1649999       5   \n",
       "\n",
       "                                                                                                                                                                                                                                                                                      text  \\\n",
       "0        Joe is quite unique of his line of work, he assists with problems with bicycles thoroughly and has a variety of parts that I could use in the future. Highly recommend on bringing your bicycle into this bike shop. The man knows and sees, and does an excellent job well-done!   \n",
       "1             For such a small place their impact on my life is huge! They keep my family's bikes running with repairs often dropped off and picked up same day! We have 4 kids on bikes back and forth to school each day, so their fast and perfect work is such a blessing. Great find!   \n",
       "2                                                                                I usually give them a call before I stop by to see if they have it in store. Bought a few random bike supplies from them. They were affordable, and very knowledgeable about the product. Very nice guys!   \n",
       "3                                                   My bike had been sitting outdoors for a good while and I did not have any expectations of ever being able to really ride it again. They proved me wrong. I walked in with a rusty piece of metal and got out with a wonderful vehicle.   \n",
       "4                                                                                                                                                                                                                          Always an easy experience. Service is knowledgeable and speedy.   \n",
       "...                                                                                                                                                                                                                                                                                    ...   \n",
       "1649964                                                                                                                                                                                                                               (Translated by Google) get busy (Original) verg busy   \n",
       "1649965                                                                                                                                                                                                              (Translated by Google) Not hosent people (Original) Not hosent people   \n",
       "1649997                                                                                                                                                           Horrible store don't waste your time cuz if you do they just might not be open because they go on lunch at random times.   \n",
       "1649998                                                                                                                                                                                       Very specific boutique. This is a solid store with a great combination of games and figures.   \n",
       "1649999                                                                                                                                                                                                                                                        I'm so blessed to get a PS5   \n",
       "\n",
       "                                       gmap_id  \n",
       "0        0x89c6c63c8cd87141:0x54d0d283872eecbb  \n",
       "1        0x89c6c63c8cd87141:0x54d0d283872eecbb  \n",
       "2        0x89c6c63c8cd87141:0x54d0d283872eecbb  \n",
       "3        0x89c6c63c8cd87141:0x54d0d283872eecbb  \n",
       "4        0x89c6c63c8cd87141:0x54d0d283872eecbb  \n",
       "...                                        ...  \n",
       "1649964  0x89c6b7ca949cc489:0xc23f5b2bc886c034  \n",
       "1649965  0x89c6b7ca949cc489:0xc23f5b2bc886c034  \n",
       "1649997  0x89c6b930900c508b:0xf87086b581c866fb  \n",
       "1649998  0x89c6b930900c508b:0xf87086b581c866fb  \n",
       "1649999  0x89c6b930900c508b:0xf87086b581c866fb  \n",
       "\n",
       "[910611 rows x 6 columns]"
      ]
     },
     "execution_count": 23,
     "metadata": {},
     "output_type": "execute_result"
    }
   ],
   "source": [
    "df"
   ]
  },
  {
   "cell_type": "code",
   "execution_count": null,
   "metadata": {},
   "outputs": [],
   "source": []
  }
 ],
 "metadata": {
  "kernelspec": {
   "display_name": "Python 3",
   "language": "python",
   "name": "python3"
  },
  "language_info": {
   "codemirror_mode": {
    "name": "ipython",
    "version": 3
   },
   "file_extension": ".py",
   "mimetype": "text/x-python",
   "name": "python",
   "nbconvert_exporter": "python",
   "pygments_lexer": "ipython3",
   "version": "3.12.4"
  }
 },
 "nbformat": 4,
 "nbformat_minor": 2
}
