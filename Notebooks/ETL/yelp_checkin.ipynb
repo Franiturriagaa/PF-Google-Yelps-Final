{
 "cells": [
  {
   "cell_type": "code",
   "execution_count": 1,
   "metadata": {},
   "outputs": [],
   "source": [
    "import pandas as pd"
   ]
  },
  {
   "cell_type": "code",
   "execution_count": 2,
   "metadata": {},
   "outputs": [],
   "source": [
    "# Tomamos una muestra, el proceso en la nube usara el archivo completo\n",
    "df = pd.read_json('../../Data/checkin.json', lines= True, nrows=100000)"
   ]
  },
  {
   "cell_type": "code",
   "execution_count": 3,
   "metadata": {},
   "outputs": [
    {
     "data": {
      "text/html": [
       "<div>\n",
       "<style scoped>\n",
       "    .dataframe tbody tr th:only-of-type {\n",
       "        vertical-align: middle;\n",
       "    }\n",
       "\n",
       "    .dataframe tbody tr th {\n",
       "        vertical-align: top;\n",
       "    }\n",
       "\n",
       "    .dataframe thead th {\n",
       "        text-align: right;\n",
       "    }\n",
       "</style>\n",
       "<table border=\"1\" class=\"dataframe\">\n",
       "  <thead>\n",
       "    <tr style=\"text-align: right;\">\n",
       "      <th></th>\n",
       "      <th>business_id</th>\n",
       "      <th>date</th>\n",
       "    </tr>\n",
       "  </thead>\n",
       "  <tbody>\n",
       "    <tr>\n",
       "      <th>0</th>\n",
       "      <td>---kPU91CF4Lq2-WlRu9Lw</td>\n",
       "      <td>2020-03-13 21:10:56, 2020-06-02 22:18:06, 2020...</td>\n",
       "    </tr>\n",
       "    <tr>\n",
       "      <th>1</th>\n",
       "      <td>--0iUa4sNDFiZFrAdIWhZQ</td>\n",
       "      <td>2010-09-13 21:43:09, 2011-05-04 23:08:15, 2011...</td>\n",
       "    </tr>\n",
       "    <tr>\n",
       "      <th>2</th>\n",
       "      <td>--30_8IhuyMHbSOcNWd6DQ</td>\n",
       "      <td>2013-06-14 23:29:17, 2014-08-13 23:20:22</td>\n",
       "    </tr>\n",
       "    <tr>\n",
       "      <th>3</th>\n",
       "      <td>--7PUidqRWpRSpXebiyxTg</td>\n",
       "      <td>2011-02-15 17:12:00, 2011-07-28 02:46:10, 2012...</td>\n",
       "    </tr>\n",
       "    <tr>\n",
       "      <th>4</th>\n",
       "      <td>--7jw19RH9JKXgFohspgQw</td>\n",
       "      <td>2014-04-21 20:42:11, 2014-04-28 21:04:46, 2014...</td>\n",
       "    </tr>\n",
       "    <tr>\n",
       "      <th>...</th>\n",
       "      <td>...</td>\n",
       "      <td>...</td>\n",
       "    </tr>\n",
       "    <tr>\n",
       "      <th>99995</th>\n",
       "      <td>kbbh3rkueBubhJa_QQjwpA</td>\n",
       "      <td>2010-05-18 16:37:01, 2010-12-17 21:02:02, 2011...</td>\n",
       "    </tr>\n",
       "    <tr>\n",
       "      <th>99996</th>\n",
       "      <td>kbdepoAfgcsVmngXg2B-5w</td>\n",
       "      <td>2011-03-04 23:19:17, 2011-03-14 18:11:18, 2011...</td>\n",
       "    </tr>\n",
       "    <tr>\n",
       "      <th>99997</th>\n",
       "      <td>kbeSI3swiGHymmlK2Cznfw</td>\n",
       "      <td>2010-07-26 01:21:38, 2010-10-01 04:57:36, 2010...</td>\n",
       "    </tr>\n",
       "    <tr>\n",
       "      <th>99998</th>\n",
       "      <td>kbexVWZtu3j87c0SgsaHfw</td>\n",
       "      <td>2016-01-28 22:55:45, 2016-02-01 18:27:31, 2016...</td>\n",
       "    </tr>\n",
       "    <tr>\n",
       "      <th>99999</th>\n",
       "      <td>kbhEMnNGyPHHvYP19efn_A</td>\n",
       "      <td>2016-12-01 04:59:40</td>\n",
       "    </tr>\n",
       "  </tbody>\n",
       "</table>\n",
       "<p>100000 rows × 2 columns</p>\n",
       "</div>"
      ],
      "text/plain": [
       "                  business_id  \\\n",
       "0      ---kPU91CF4Lq2-WlRu9Lw   \n",
       "1      --0iUa4sNDFiZFrAdIWhZQ   \n",
       "2      --30_8IhuyMHbSOcNWd6DQ   \n",
       "3      --7PUidqRWpRSpXebiyxTg   \n",
       "4      --7jw19RH9JKXgFohspgQw   \n",
       "...                       ...   \n",
       "99995  kbbh3rkueBubhJa_QQjwpA   \n",
       "99996  kbdepoAfgcsVmngXg2B-5w   \n",
       "99997  kbeSI3swiGHymmlK2Cznfw   \n",
       "99998  kbexVWZtu3j87c0SgsaHfw   \n",
       "99999  kbhEMnNGyPHHvYP19efn_A   \n",
       "\n",
       "                                                    date  \n",
       "0      2020-03-13 21:10:56, 2020-06-02 22:18:06, 2020...  \n",
       "1      2010-09-13 21:43:09, 2011-05-04 23:08:15, 2011...  \n",
       "2               2013-06-14 23:29:17, 2014-08-13 23:20:22  \n",
       "3      2011-02-15 17:12:00, 2011-07-28 02:46:10, 2012...  \n",
       "4      2014-04-21 20:42:11, 2014-04-28 21:04:46, 2014...  \n",
       "...                                                  ...  \n",
       "99995  2010-05-18 16:37:01, 2010-12-17 21:02:02, 2011...  \n",
       "99996  2011-03-04 23:19:17, 2011-03-14 18:11:18, 2011...  \n",
       "99997  2010-07-26 01:21:38, 2010-10-01 04:57:36, 2010...  \n",
       "99998  2016-01-28 22:55:45, 2016-02-01 18:27:31, 2016...  \n",
       "99999                                2016-12-01 04:59:40  \n",
       "\n",
       "[100000 rows x 2 columns]"
      ]
     },
     "execution_count": 3,
     "metadata": {},
     "output_type": "execute_result"
    }
   ],
   "source": [
    "df"
   ]
  },
  {
   "cell_type": "code",
   "execution_count": 4,
   "metadata": {},
   "outputs": [],
   "source": [
    "# En la nube, este dataframe es extraido desde Big Query\n",
    "df2 = pd.read_pickle('../../Data/business.pkl')"
   ]
  },
  {
   "cell_type": "code",
   "execution_count": 5,
   "metadata": {},
   "outputs": [],
   "source": [
    "# Transformamos los datos parcialmente. En cloud los datos se usaran ya transformados\n",
    "df2 = df2.loc[:, ~df2.columns.duplicated()]\n",
    "df2 = df2[df2['city']=='Philadelphia']"
   ]
  },
  {
   "cell_type": "code",
   "execution_count": 6,
   "metadata": {},
   "outputs": [],
   "source": [
    "# Queremos cargar solo las reviews a negocioes que estan en nuestro otro dataset\n",
    "df =df[(df['business_id'].isin(df2['business_id']))]"
   ]
  },
  {
   "cell_type": "code",
   "execution_count": 7,
   "metadata": {},
   "outputs": [
    {
     "data": {
      "text/html": [
       "<div>\n",
       "<style scoped>\n",
       "    .dataframe tbody tr th:only-of-type {\n",
       "        vertical-align: middle;\n",
       "    }\n",
       "\n",
       "    .dataframe tbody tr th {\n",
       "        vertical-align: top;\n",
       "    }\n",
       "\n",
       "    .dataframe thead th {\n",
       "        text-align: right;\n",
       "    }\n",
       "</style>\n",
       "<table border=\"1\" class=\"dataframe\">\n",
       "  <thead>\n",
       "    <tr style=\"text-align: right;\">\n",
       "      <th></th>\n",
       "      <th>business_id</th>\n",
       "      <th>date</th>\n",
       "    </tr>\n",
       "  </thead>\n",
       "  <tbody>\n",
       "    <tr>\n",
       "      <th>14</th>\n",
       "      <td>--OS_I7dnABrXvRCCuWOGQ</td>\n",
       "      <td>2018-05-11 18:23:36</td>\n",
       "    </tr>\n",
       "    <tr>\n",
       "      <th>32</th>\n",
       "      <td>--sXnWH9Xm6_NvIjyuA99w</td>\n",
       "      <td>2011-06-08 19:26:16, 2011-07-31 02:53:37, 2011...</td>\n",
       "    </tr>\n",
       "    <tr>\n",
       "      <th>48</th>\n",
       "      <td>-0M0b-XhtFagyLmsBtOe8w</td>\n",
       "      <td>2012-02-09 22:11:59, 2012-02-17 23:03:05, 2012...</td>\n",
       "    </tr>\n",
       "    <tr>\n",
       "      <th>49</th>\n",
       "      <td>-0PN_KFPtbnLQZEeb23XiA</td>\n",
       "      <td>2011-02-23 05:39:14, 2011-03-01 21:58:33, 2011...</td>\n",
       "    </tr>\n",
       "    <tr>\n",
       "      <th>50</th>\n",
       "      <td>-0TffRSXXIlBYVbb5AwfTg</td>\n",
       "      <td>2013-05-31 23:03:18, 2013-05-31 23:05:01, 2013...</td>\n",
       "    </tr>\n",
       "    <tr>\n",
       "      <th>...</th>\n",
       "      <td>...</td>\n",
       "      <td>...</td>\n",
       "    </tr>\n",
       "    <tr>\n",
       "      <th>99958</th>\n",
       "      <td>kaoDMrIYG6iDU8AhT-G-0g</td>\n",
       "      <td>2017-12-08 21:29:13, 2018-09-03 22:46:39, 2019...</td>\n",
       "    </tr>\n",
       "    <tr>\n",
       "      <th>99964</th>\n",
       "      <td>kb-U-rFwFhxPtIND8bFGJg</td>\n",
       "      <td>2012-04-22 01:02:59, 2012-06-28 10:13:52, 2012...</td>\n",
       "    </tr>\n",
       "    <tr>\n",
       "      <th>99976</th>\n",
       "      <td>kbEVlzQLcYS3JSQPG9QMOQ</td>\n",
       "      <td>2010-02-14 15:32:48, 2010-02-20 17:50:15, 2010...</td>\n",
       "    </tr>\n",
       "    <tr>\n",
       "      <th>99992</th>\n",
       "      <td>kbXGifEQA_2Cqzg8-31MJg</td>\n",
       "      <td>2016-12-17 17:51:43, 2016-12-30 17:39:27, 2017...</td>\n",
       "    </tr>\n",
       "    <tr>\n",
       "      <th>99993</th>\n",
       "      <td>kbXpjBSweedxQ1WrlJ5i7Q</td>\n",
       "      <td>2015-07-12 19:12:57, 2015-07-13 16:56:15, 2015...</td>\n",
       "    </tr>\n",
       "  </tbody>\n",
       "</table>\n",
       "<p>9752 rows × 2 columns</p>\n",
       "</div>"
      ],
      "text/plain": [
       "                  business_id  \\\n",
       "14     --OS_I7dnABrXvRCCuWOGQ   \n",
       "32     --sXnWH9Xm6_NvIjyuA99w   \n",
       "48     -0M0b-XhtFagyLmsBtOe8w   \n",
       "49     -0PN_KFPtbnLQZEeb23XiA   \n",
       "50     -0TffRSXXIlBYVbb5AwfTg   \n",
       "...                       ...   \n",
       "99958  kaoDMrIYG6iDU8AhT-G-0g   \n",
       "99964  kb-U-rFwFhxPtIND8bFGJg   \n",
       "99976  kbEVlzQLcYS3JSQPG9QMOQ   \n",
       "99992  kbXGifEQA_2Cqzg8-31MJg   \n",
       "99993  kbXpjBSweedxQ1WrlJ5i7Q   \n",
       "\n",
       "                                                    date  \n",
       "14                                   2018-05-11 18:23:36  \n",
       "32     2011-06-08 19:26:16, 2011-07-31 02:53:37, 2011...  \n",
       "48     2012-02-09 22:11:59, 2012-02-17 23:03:05, 2012...  \n",
       "49     2011-02-23 05:39:14, 2011-03-01 21:58:33, 2011...  \n",
       "50     2013-05-31 23:03:18, 2013-05-31 23:05:01, 2013...  \n",
       "...                                                  ...  \n",
       "99958  2017-12-08 21:29:13, 2018-09-03 22:46:39, 2019...  \n",
       "99964  2012-04-22 01:02:59, 2012-06-28 10:13:52, 2012...  \n",
       "99976  2010-02-14 15:32:48, 2010-02-20 17:50:15, 2010...  \n",
       "99992  2016-12-17 17:51:43, 2016-12-30 17:39:27, 2017...  \n",
       "99993  2015-07-12 19:12:57, 2015-07-13 16:56:15, 2015...  \n",
       "\n",
       "[9752 rows x 2 columns]"
      ]
     },
     "execution_count": 7,
     "metadata": {},
     "output_type": "execute_result"
    }
   ],
   "source": [
    "df"
   ]
  },
  {
   "cell_type": "code",
   "execution_count": 8,
   "metadata": {},
   "outputs": [
    {
     "data": {
      "text/plain": [
       "business_id    object\n",
       "date           object\n",
       "dtype: object"
      ]
     },
     "execution_count": 8,
     "metadata": {},
     "output_type": "execute_result"
    }
   ],
   "source": [
    "df.dtypes"
   ]
  }
 ],
 "metadata": {
  "kernelspec": {
   "display_name": "Python 3",
   "language": "python",
   "name": "python3"
  },
  "language_info": {
   "codemirror_mode": {
    "name": "ipython",
    "version": 3
   },
   "file_extension": ".py",
   "mimetype": "text/x-python",
   "name": "python",
   "nbconvert_exporter": "python",
   "pygments_lexer": "ipython3",
   "version": "3.10.11"
  },
  "orig_nbformat": 4,
  "vscode": {
   "interpreter": {
    "hash": "40ea231ce006ed65b013ba3e9b5a48267321b4d32b910ea3a649228a606377c3"
   }
  }
 },
 "nbformat": 4,
 "nbformat_minor": 2
}
