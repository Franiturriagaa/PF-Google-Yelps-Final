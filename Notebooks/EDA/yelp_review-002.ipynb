{
 "cells": [
  {
   "cell_type": "code",
   "execution_count": 2,
   "metadata": {},
   "outputs": [
    {
     "name": "stdout",
     "output_type": "stream",
     "text": [
      "Procesando chunk 1\n",
      "Procesando chunk 2\n",
      "Procesando chunk 3\n",
      "Procesando chunk 4\n",
      "Procesando chunk 5\n",
      "Procesando chunk 6\n",
      "Procesando chunk 7\n",
      "Archivo completo procesado.\n"
     ]
    }
   ],
   "source": [
    "import pandas as pd\n",
    "\n",
    "def read_json_in_chunks(file_path, chunk_size):\n",
    "    # Abrimos el archivo en modo lectura por líneas\n",
    "    with pd.read_json(file_path, lines=True, chunksize=chunk_size) as reader:\n",
    "        # Iteramos sobre los chunks del archivo\n",
    "        for chunk in reader:\n",
    "            yield chunk  # Devolvemos el chunk actual\n",
    "\n",
    "# Inicializamos variables para procesar todos los chunks\n",
    "file_path = '../../Data/review-002.json'\n",
    "chunk_size = 1000000  # Tamaño de cada chunk\n",
    "\n",
    "# Iteramos sobre el archivo y procesamos cada chunk\n",
    "for i, df_chunk in enumerate(read_json_in_chunks(file_path, chunk_size)):\n",
    "    print(f\"Procesando chunk {i + 1}\")\n",
    "    \n",
    "    # Aquí puedes realizar operaciones con el chunk (df_chunk)\n",
    "    # Por ejemplo, almacenar en una lista, concatenar con otro DataFrame, etc.\n",
    "    # df_chunk -> contiene el DataFrame del chunk actual\n",
    "\n",
    "    # Si deseas concatenar cada chunk a un DataFrame general:\n",
    "    if i == 0:\n",
    "        full_df = df_chunk  # Primer chunk\n",
    "    else:\n",
    "        full_df = pd.concat([full_df, df_chunk], ignore_index=True)\n",
    "\n",
    "# Al final del bucle, 'full_df' contendrá todo el archivo.\n",
    "print(\"Archivo completo procesado.\")\n"
   ]
  },
  {
   "cell_type": "markdown",
   "metadata": {},
   "source": [
    "1. Análisis Exploratorio de Datos (EDA)"
   ]
  },
  {
   "cell_type": "markdown",
   "metadata": {},
   "source": [
    "a. Tipos de Datos"
   ]
  },
  {
   "cell_type": "code",
   "execution_count": 3,
   "metadata": {},
   "outputs": [
    {
     "name": "stdout",
     "output_type": "stream",
     "text": [
      "Tipos de datos en full_df:\n",
      "review_id              object\n",
      "user_id                object\n",
      "business_id            object\n",
      "stars                   int64\n",
      "useful                  int64\n",
      "funny                   int64\n",
      "cool                    int64\n",
      "text                   object\n",
      "date           datetime64[ns]\n",
      "dtype: object\n"
     ]
    }
   ],
   "source": [
    "print(\"Tipos de datos en full_df:\")\n",
    "print(full_df.dtypes)\n"
   ]
  },
  {
   "cell_type": "markdown",
   "metadata": {},
   "source": [
    "b. Valores Faltantes y Nulos"
   ]
  },
  {
   "cell_type": "code",
   "execution_count": 4,
   "metadata": {},
   "outputs": [
    {
     "name": "stdout",
     "output_type": "stream",
     "text": [
      "Valores faltantes en full_df:\n",
      "review_id      0\n",
      "user_id        0\n",
      "business_id    0\n",
      "stars          0\n",
      "useful         0\n",
      "funny          0\n",
      "cool           0\n",
      "text           0\n",
      "date           0\n",
      "dtype: int64\n",
      "Número de valores nulos en cada columna:\n",
      "review_id      0\n",
      "user_id        0\n",
      "business_id    0\n",
      "stars          0\n",
      "useful         0\n",
      "funny          0\n",
      "cool           0\n",
      "text           0\n",
      "date           0\n",
      "dtype: int64\n"
     ]
    }
   ],
   "source": [
    "# Verifica los valores faltantes en cada columna\n",
    "print(\"Valores faltantes en full_df:\")\n",
    "print(full_df.isnull().sum())\n",
    "\n",
    "# Verifica si hay valores nulos en cada columna\n",
    "print(\"Número de valores nulos en cada columna:\")\n",
    "print(full_df.isna().sum())"
   ]
  },
  {
   "cell_type": "markdown",
   "metadata": {},
   "source": [
    "c. Duplicados"
   ]
  },
  {
   "cell_type": "code",
   "execution_count": 5,
   "metadata": {},
   "outputs": [
    {
     "name": "stdout",
     "output_type": "stream",
     "text": [
      "Número de filas duplicadas:\n",
      "0\n"
     ]
    }
   ],
   "source": [
    "# Verifica si hay filas duplicadas\n",
    "print(\"Número de filas duplicadas:\")\n",
    "print(full_df.duplicated().sum())"
   ]
  },
  {
   "cell_type": "markdown",
   "metadata": {},
   "source": [
    "d. Metadatos / Diccionario de datos:"
   ]
  },
  {
   "cell_type": "code",
   "execution_count": 6,
   "metadata": {},
   "outputs": [
    {
     "name": "stdout",
     "output_type": "stream",
     "text": [
      "Resumen de columnas en full_df:\n",
      "                     review_id                 user_id  \\\n",
      "count                  6990280                 6990280   \n",
      "unique                 6990280                 1987929   \n",
      "top     KU_O5udG6zpxOg-VcAEodg  _BcWyKQL16ndpBdggh2kNA   \n",
      "freq                         1                    3048   \n",
      "mean                       NaN                     NaN   \n",
      "min                        NaN                     NaN   \n",
      "25%                        NaN                     NaN   \n",
      "50%                        NaN                     NaN   \n",
      "75%                        NaN                     NaN   \n",
      "max                        NaN                     NaN   \n",
      "std                        NaN                     NaN   \n",
      "\n",
      "                   business_id         stars        useful         funny  \\\n",
      "count                  6990280  6.990280e+06  6.990280e+06  6.990280e+06   \n",
      "unique                  150346           NaN           NaN           NaN   \n",
      "top     _ab50qdWOk0DdB6XOrBitw           NaN           NaN           NaN   \n",
      "freq                      7673           NaN           NaN           NaN   \n",
      "mean                       NaN  3.748584e+00  1.184609e+00  3.265596e-01   \n",
      "min                        NaN  1.000000e+00 -1.000000e+00 -1.000000e+00   \n",
      "25%                        NaN  3.000000e+00  0.000000e+00  0.000000e+00   \n",
      "50%                        NaN  4.000000e+00  0.000000e+00  0.000000e+00   \n",
      "75%                        NaN  5.000000e+00  1.000000e+00  0.000000e+00   \n",
      "max                        NaN  5.000000e+00  1.182000e+03  7.920000e+02   \n",
      "std                        NaN  1.478705e+00  3.253767e+00  1.688729e+00   \n",
      "\n",
      "                cool                                               text  \\\n",
      "count   6.990280e+06                                            6990280   \n",
      "unique           NaN                                            6974127   \n",
      "top              NaN  DO NOT PARK HERE!\\nthey are too quick to boot ...   \n",
      "freq             NaN                                                 18   \n",
      "mean    4.986175e-01                                                NaN   \n",
      "min    -1.000000e+00                                                NaN   \n",
      "25%     0.000000e+00                                                NaN   \n",
      "50%     0.000000e+00                                                NaN   \n",
      "75%     0.000000e+00                                                NaN   \n",
      "max     4.040000e+02                                                NaN   \n",
      "std     2.172460e+00                                                NaN   \n",
      "\n",
      "                                 date  \n",
      "count                         6990280  \n",
      "unique                            NaN  \n",
      "top                               NaN  \n",
      "freq                              NaN  \n",
      "mean    2017-01-11 11:22:33.441780992  \n",
      "min               2005-02-16 03:23:22  \n",
      "25%     2015-01-25 04:53:50.249999872  \n",
      "50%               2017-06-03 01:26:07  \n",
      "75%     2019-05-23 00:02:46.249999872  \n",
      "max               2022-01-19 19:48:45  \n",
      "std                               NaN  \n"
     ]
    }
   ],
   "source": [
    "# Muestra un resumen de las columnas\n",
    "print(\"Resumen de columnas en full_df:\")\n",
    "print(full_df.describe(include='all'))"
   ]
  },
  {
   "cell_type": "markdown",
   "metadata": {},
   "source": [
    "Cargamos el dataframe de 'business.pkl' para encontrar valores de Philadelphia"
   ]
  },
  {
   "cell_type": "code",
   "execution_count": 19,
   "metadata": {},
   "outputs": [],
   "source": [
    "# Cargar el DataFrame\n",
    "business_df = pd.read_pickle('../../Data/business.pkl')"
   ]
  },
  {
   "cell_type": "code",
   "execution_count": 12,
   "metadata": {},
   "outputs": [],
   "source": [
    "# Verificar índices duplicados\n",
    "duplicates = business_df.index.duplicated()\n",
    "if duplicates.any():\n",
    "    print(f\"Hay {duplicates.sum()} índices duplicados.\")\n",
    "    # Eliminar índices duplicados\n",
    "    business_df = business_df[~duplicates]"
   ]
  },
  {
   "cell_type": "code",
   "execution_count": 21,
   "metadata": {},
   "outputs": [
    {
     "name": "stdout",
     "output_type": "stream",
     "text": [
      "                 city city\n",
      "0       Santa Barbara  NaN\n",
      "1              Affton  NaN\n",
      "2              Tucson  NaN\n",
      "3        Philadelphia  NaN\n",
      "4          Green Lane  NaN\n",
      "...               ...  ...\n",
      "150341       Edmonton  NaN\n",
      "150342      Nashville  NaN\n",
      "150343   Indianapolis  NaN\n",
      "150344   Edwardsville  NaN\n",
      "150345   Apollo beach  NaN\n",
      "\n",
      "[150346 rows x 2 columns]\n"
     ]
    }
   ],
   "source": [
    "print(business_df['city'])"
   ]
  },
  {
   "cell_type": "code",
   "execution_count": 22,
   "metadata": {},
   "outputs": [],
   "source": [
    "# Eliminar columnas duplicadas, conservando la primera instancia\n",
    "business_df = business_df.loc[:, ~business_df.columns.duplicated()]"
   ]
  },
  {
   "cell_type": "code",
   "execution_count": 23,
   "metadata": {},
   "outputs": [
    {
     "name": "stdout",
     "output_type": "stream",
     "text": [
      "Columnas en el DataFrame:\n",
      " Index(['business_id', 'name', 'address', 'city', 'state', 'postal_code',\n",
      "       'latitude', 'longitude', 'stars', 'review_count', 'is_open',\n",
      "       'attributes', 'categories', 'hours'],\n",
      "      dtype='object')\n"
     ]
    }
   ],
   "source": [
    "# Verificar las columnas restantes\n",
    "print(\"Columnas en el DataFrame:\\n\", business_df.columns)"
   ]
  },
  {
   "cell_type": "code",
   "execution_count": 24,
   "metadata": {},
   "outputs": [],
   "source": [
    "# Convertir la Columna 'city' a tipo string\n",
    "business_df['city'] = business_df['city'].astype(str)\n",
    "\n",
    "# Eliminar espacios en blanco\n",
    "business_df['city'] = business_df['city'].str.strip()\n",
    "\n",
    "# Filtrar los datos para Philadelphia\n",
    "philadelphia_business_df = business_df[business_df['city'] == 'Philadelphia']"
   ]
  },
  {
   "cell_type": "markdown",
   "metadata": {},
   "source": [
    "e. Distribucion de datos"
   ]
  },
  {
   "cell_type": "code",
   "execution_count": 34,
   "metadata": {},
   "outputs": [
    {
     "name": "stdout",
     "output_type": "stream",
     "text": [
      "count    14570.000000\n",
      "mean        64.261702\n",
      "std        165.296222\n",
      "min          5.000000\n",
      "25%          9.000000\n",
      "50%         19.000000\n",
      "75%         53.000000\n",
      "max       5721.000000\n",
      "Name: review_count, dtype: float64\n"
     ]
    },
    {
     "data": {
      "image/png": "[encoded data removed]",
      "text/plain": [
       "<Figure size 1000x600 with 1 Axes>"
      ]
     },
     "metadata": {},
     "output_type": "display_data"
    }
   ],
   "source": [
    "import pandas as pd\n",
    "import matplotlib.pyplot as plt\n",
    "import seaborn as sns\n",
    "\n",
    "# Convertir review_count a numérico usando .loc para evitar advertencias\n",
    "philadelphia_business_df.loc[:, 'review_count'] = pd.to_numeric(philadelphia_business_df['review_count'], errors='coerce')\n",
    "\n",
    "# Resumen de estadísticas descriptivas\n",
    "stats = philadelphia_business_df['review_count'].describe()\n",
    "print(stats)\n",
    "\n",
    "# Histograma básico de review_count\n",
    "plt.figure(figsize=(10, 6))\n",
    "sns.histplot(philadelphia_business_df['review_count'].dropna(), bins=30, kde=False)\n",
    "plt.title('Distribución de review_count')\n",
    "plt.xlabel('Número de Reseñas')\n",
    "plt.ylabel('Frecuencia')\n",
    "plt.show()"
   ]
  },
  {
   "cell_type": "markdown",
   "metadata": {},
   "source": [
    "f. Deteccion de Outliers"
   ]
  },
  {
   "cell_type": "code",
   "execution_count": 30,
   "metadata": {},
   "outputs": [
    {
     "name": "stdout",
     "output_type": "stream",
     "text": [
      "Número de outliers en review_count: 1824\n",
      "Outliers detectados en columnas numéricas:\n",
      " {'review_count': 1824}\n"
     ]
    }
   ],
   "source": [
    "# Función para detectar outliers usando IQR\n",
    "def detect_outliers_iqr(df, column):\n",
    "    Q1 = df[column].quantile(0.25)\n",
    "    Q3 = df[column].quantile(0.75)\n",
    "    IQR = Q3 - Q1\n",
    "    lower_bound = Q1 - 1.5 * IQR\n",
    "    upper_bound = Q3 + 1.5 * IQR\n",
    "    return df[(df[column] < lower_bound) | (df[column] > upper_bound)]\n",
    "\n",
    "# Detectar outliers en cada columna numérica\n",
    "outliers_dict = {}\n",
    "for col in numeric_cols:\n",
    "    # Convertir a numérico utilizando .loc para evitar SettingWithCopyWarning\n",
    "    philadelphia_business_df.loc[:, col] = pd.to_numeric(philadelphia_business_df[col], errors='coerce')\n",
    "    outliers = detect_outliers_iqr(philadelphia_business_df, col)\n",
    "    if not outliers.empty:\n",
    "        outliers_dict[col] = outliers.shape[0]\n",
    "        print(f'Número de outliers en {col}:', outliers.shape[0])\n",
    "\n",
    "print(\"Outliers detectados en columnas numéricas:\\n\", outliers_dict)"
   ]
  },
  {
   "cell_type": "code",
   "execution_count": null,
   "metadata": {},
   "outputs": [],
   "source": []
  }
 ],
 "metadata": {
  "kernelspec": {
   "display_name": "Python 3",
   "language": "python",
   "name": "python3"
  },
  "language_info": {
   "codemirror_mode": {
    "name": "ipython",
    "version": 3
   },
   "file_extension": ".py",
   "mimetype": "text/x-python",
   "name": "python",
   "nbconvert_exporter": "python",
   "pygments_lexer": "ipython3",
   "version": "3.12.4"
  }
 },
 "nbformat": 4,
 "nbformat_minor": 2
}
