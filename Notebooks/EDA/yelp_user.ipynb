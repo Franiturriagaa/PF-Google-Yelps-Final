{
 "cells": [
  {
   "cell_type": "markdown",
   "metadata": {},
   "source": [
    "# LIBRERIAS Y DEPENDENCIAS"
   ]
  },
  {
   "cell_type": "code",
   "execution_count": 11,
   "metadata": {},
   "outputs": [],
   "source": [
    "import pandas as pd\n",
    "import numpy as np\n",
    "import warnings \n",
    "warnings.filterwarnings(\"ignore\")\n",
    "import seaborn as sns\n",
    "import matplotlib.pyplot as plt"
   ]
  },
  {
   "cell_type": "markdown",
   "metadata": {},
   "source": [
    "___________________"
   ]
  },
  {
   "cell_type": "markdown",
   "metadata": {},
   "source": [
    "# EDA - user.parquet"
   ]
  },
  {
   "cell_type": "code",
   "execution_count": 5,
   "metadata": {},
   "outputs": [],
   "source": [
    "yelp_user= pd.read_parquet('../../Data/user.parquet')"
   ]
  },
  {
   "cell_type": "code",
   "execution_count": 6,
   "metadata": {},
   "outputs": [
    {
     "data": {
      "text/html": [
       "<div>\n",
       "<style scoped>\n",
       "    .dataframe tbody tr th:only-of-type {\n",
       "        vertical-align: middle;\n",
       "    }\n",
       "\n",
       "    .dataframe tbody tr th {\n",
       "        vertical-align: top;\n",
       "    }\n",
       "\n",
       "    .dataframe thead th {\n",
       "        text-align: right;\n",
       "    }\n",
       "</style>\n",
       "<table border=\"1\" class=\"dataframe\">\n",
       "  <thead>\n",
       "    <tr style=\"text-align: right;\">\n",
       "      <th></th>\n",
       "      <th>user_id</th>\n",
       "      <th>name</th>\n",
       "      <th>review_count</th>\n",
       "      <th>yelping_since</th>\n",
       "      <th>useful</th>\n",
       "      <th>funny</th>\n",
       "      <th>cool</th>\n",
       "      <th>elite</th>\n",
       "      <th>friends</th>\n",
       "      <th>fans</th>\n",
       "      <th>...</th>\n",
       "      <th>compliment_more</th>\n",
       "      <th>compliment_profile</th>\n",
       "      <th>compliment_cute</th>\n",
       "      <th>compliment_list</th>\n",
       "      <th>compliment_note</th>\n",
       "      <th>compliment_plain</th>\n",
       "      <th>compliment_cool</th>\n",
       "      <th>compliment_funny</th>\n",
       "      <th>compliment_writer</th>\n",
       "      <th>compliment_photos</th>\n",
       "    </tr>\n",
       "  </thead>\n",
       "  <tbody>\n",
       "    <tr>\n",
       "      <th>0</th>\n",
       "      <td>qVc8ODYU5SZjKXVBgXdI7w</td>\n",
       "      <td>Walker</td>\n",
       "      <td>585</td>\n",
       "      <td>2007-01-25 16:47:26</td>\n",
       "      <td>7217</td>\n",
       "      <td>1259</td>\n",
       "      <td>5994</td>\n",
       "      <td>2007</td>\n",
       "      <td>NSCy54eWehBJyZdG2iE84w, pe42u7DcCH2QmI81NX-8qA...</td>\n",
       "      <td>267</td>\n",
       "      <td>...</td>\n",
       "      <td>65</td>\n",
       "      <td>55</td>\n",
       "      <td>56</td>\n",
       "      <td>18</td>\n",
       "      <td>232</td>\n",
       "      <td>844</td>\n",
       "      <td>467</td>\n",
       "      <td>467</td>\n",
       "      <td>239</td>\n",
       "      <td>180</td>\n",
       "    </tr>\n",
       "    <tr>\n",
       "      <th>1</th>\n",
       "      <td>j14WgRoU_-2ZE1aw1dXrJg</td>\n",
       "      <td>Daniel</td>\n",
       "      <td>4333</td>\n",
       "      <td>2009-01-25 04:35:42</td>\n",
       "      <td>43091</td>\n",
       "      <td>13066</td>\n",
       "      <td>27281</td>\n",
       "      <td>2009,2010,2011,2012,2013,2014,2015,2016,2017,2...</td>\n",
       "      <td>ueRPE0CX75ePGMqOFVj6IQ, 52oH4DrRvzzl8wh5UXyU0A...</td>\n",
       "      <td>3138</td>\n",
       "      <td>...</td>\n",
       "      <td>264</td>\n",
       "      <td>184</td>\n",
       "      <td>157</td>\n",
       "      <td>251</td>\n",
       "      <td>1847</td>\n",
       "      <td>7054</td>\n",
       "      <td>3131</td>\n",
       "      <td>3131</td>\n",
       "      <td>1521</td>\n",
       "      <td>1946</td>\n",
       "    </tr>\n",
       "    <tr>\n",
       "      <th>2</th>\n",
       "      <td>2WnXYQFK0hXEoTxPtV2zvg</td>\n",
       "      <td>Steph</td>\n",
       "      <td>665</td>\n",
       "      <td>2008-07-25 10:41:00</td>\n",
       "      <td>2086</td>\n",
       "      <td>1010</td>\n",
       "      <td>1003</td>\n",
       "      <td>2009,2010,2011,2012,2013</td>\n",
       "      <td>LuO3Bn4f3rlhyHIaNfTlnA, j9B4XdHUhDfTKVecyWQgyA...</td>\n",
       "      <td>52</td>\n",
       "      <td>...</td>\n",
       "      <td>13</td>\n",
       "      <td>10</td>\n",
       "      <td>17</td>\n",
       "      <td>3</td>\n",
       "      <td>66</td>\n",
       "      <td>96</td>\n",
       "      <td>119</td>\n",
       "      <td>119</td>\n",
       "      <td>35</td>\n",
       "      <td>18</td>\n",
       "    </tr>\n",
       "    <tr>\n",
       "      <th>3</th>\n",
       "      <td>SZDeASXq7o05mMNLshsdIA</td>\n",
       "      <td>Gwen</td>\n",
       "      <td>224</td>\n",
       "      <td>2005-11-29 04:38:33</td>\n",
       "      <td>512</td>\n",
       "      <td>330</td>\n",
       "      <td>299</td>\n",
       "      <td>2009,2010,2011</td>\n",
       "      <td>enx1vVPnfdNUdPho6PH_wg, 4wOcvMLtU6a9Lslggq74Vg...</td>\n",
       "      <td>28</td>\n",
       "      <td>...</td>\n",
       "      <td>4</td>\n",
       "      <td>1</td>\n",
       "      <td>6</td>\n",
       "      <td>2</td>\n",
       "      <td>12</td>\n",
       "      <td>16</td>\n",
       "      <td>26</td>\n",
       "      <td>26</td>\n",
       "      <td>10</td>\n",
       "      <td>9</td>\n",
       "    </tr>\n",
       "    <tr>\n",
       "      <th>4</th>\n",
       "      <td>hA5lMy-EnncsH4JoR-hFGQ</td>\n",
       "      <td>Karen</td>\n",
       "      <td>79</td>\n",
       "      <td>2007-01-05 19:40:59</td>\n",
       "      <td>29</td>\n",
       "      <td>15</td>\n",
       "      <td>7</td>\n",
       "      <td></td>\n",
       "      <td>PBK4q9KEEBHhFvSXCUirIw, 3FWPpM7KU1gXeOM_ZbYMbA...</td>\n",
       "      <td>1</td>\n",
       "      <td>...</td>\n",
       "      <td>1</td>\n",
       "      <td>0</td>\n",
       "      <td>0</td>\n",
       "      <td>0</td>\n",
       "      <td>1</td>\n",
       "      <td>1</td>\n",
       "      <td>0</td>\n",
       "      <td>0</td>\n",
       "      <td>0</td>\n",
       "      <td>0</td>\n",
       "    </tr>\n",
       "    <tr>\n",
       "      <th>5</th>\n",
       "      <td>q_QQ5kBBwlCcbL1s4NVK3g</td>\n",
       "      <td>Jane</td>\n",
       "      <td>1221</td>\n",
       "      <td>2005-03-14 20:26:35</td>\n",
       "      <td>14953</td>\n",
       "      <td>9940</td>\n",
       "      <td>11211</td>\n",
       "      <td>2006,2007,2008,2009,2010,2011,2012,2013,2014</td>\n",
       "      <td>xBDpTUbai0DXrvxCe3X16Q, 7GPNBO496aecrjJfW6UWtg...</td>\n",
       "      <td>1357</td>\n",
       "      <td>...</td>\n",
       "      <td>163</td>\n",
       "      <td>191</td>\n",
       "      <td>361</td>\n",
       "      <td>147</td>\n",
       "      <td>1212</td>\n",
       "      <td>5696</td>\n",
       "      <td>2543</td>\n",
       "      <td>2543</td>\n",
       "      <td>815</td>\n",
       "      <td>323</td>\n",
       "    </tr>\n",
       "    <tr>\n",
       "      <th>6</th>\n",
       "      <td>cxuxXkcihfCbqt5Byrup8Q</td>\n",
       "      <td>Rob</td>\n",
       "      <td>12</td>\n",
       "      <td>2009-02-24 03:09:06</td>\n",
       "      <td>6</td>\n",
       "      <td>1</td>\n",
       "      <td>0</td>\n",
       "      <td></td>\n",
       "      <td>HDAQ74AEznP-YsMk1B14CA, 6A6-aIX7fg_zRy9MiE6YyQ...</td>\n",
       "      <td>1</td>\n",
       "      <td>...</td>\n",
       "      <td>0</td>\n",
       "      <td>0</td>\n",
       "      <td>0</td>\n",
       "      <td>0</td>\n",
       "      <td>0</td>\n",
       "      <td>1</td>\n",
       "      <td>0</td>\n",
       "      <td>0</td>\n",
       "      <td>0</td>\n",
       "      <td>0</td>\n",
       "    </tr>\n",
       "  </tbody>\n",
       "</table>\n",
       "<p>7 rows × 22 columns</p>\n",
       "</div>"
      ],
      "text/plain": [
       "                  user_id    name  review_count        yelping_since  useful   \n",
       "0  qVc8ODYU5SZjKXVBgXdI7w  Walker           585  2007-01-25 16:47:26    7217  \\\n",
       "1  j14WgRoU_-2ZE1aw1dXrJg  Daniel          4333  2009-01-25 04:35:42   43091   \n",
       "2  2WnXYQFK0hXEoTxPtV2zvg   Steph           665  2008-07-25 10:41:00    2086   \n",
       "3  SZDeASXq7o05mMNLshsdIA    Gwen           224  2005-11-29 04:38:33     512   \n",
       "4  hA5lMy-EnncsH4JoR-hFGQ   Karen            79  2007-01-05 19:40:59      29   \n",
       "5  q_QQ5kBBwlCcbL1s4NVK3g    Jane          1221  2005-03-14 20:26:35   14953   \n",
       "6  cxuxXkcihfCbqt5Byrup8Q     Rob            12  2009-02-24 03:09:06       6   \n",
       "\n",
       "   funny   cool                                              elite   \n",
       "0   1259   5994                                               2007  \\\n",
       "1  13066  27281  2009,2010,2011,2012,2013,2014,2015,2016,2017,2...   \n",
       "2   1010   1003                           2009,2010,2011,2012,2013   \n",
       "3    330    299                                     2009,2010,2011   \n",
       "4     15      7                                                      \n",
       "5   9940  11211       2006,2007,2008,2009,2010,2011,2012,2013,2014   \n",
       "6      1      0                                                      \n",
       "\n",
       "                                             friends  fans  ...   \n",
       "0  NSCy54eWehBJyZdG2iE84w, pe42u7DcCH2QmI81NX-8qA...   267  ...  \\\n",
       "1  ueRPE0CX75ePGMqOFVj6IQ, 52oH4DrRvzzl8wh5UXyU0A...  3138  ...   \n",
       "2  LuO3Bn4f3rlhyHIaNfTlnA, j9B4XdHUhDfTKVecyWQgyA...    52  ...   \n",
       "3  enx1vVPnfdNUdPho6PH_wg, 4wOcvMLtU6a9Lslggq74Vg...    28  ...   \n",
       "4  PBK4q9KEEBHhFvSXCUirIw, 3FWPpM7KU1gXeOM_ZbYMbA...     1  ...   \n",
       "5  xBDpTUbai0DXrvxCe3X16Q, 7GPNBO496aecrjJfW6UWtg...  1357  ...   \n",
       "6  HDAQ74AEznP-YsMk1B14CA, 6A6-aIX7fg_zRy9MiE6YyQ...     1  ...   \n",
       "\n",
       "   compliment_more  compliment_profile  compliment_cute  compliment_list   \n",
       "0               65                  55               56               18  \\\n",
       "1              264                 184              157              251   \n",
       "2               13                  10               17                3   \n",
       "3                4                   1                6                2   \n",
       "4                1                   0                0                0   \n",
       "5              163                 191              361              147   \n",
       "6                0                   0                0                0   \n",
       "\n",
       "   compliment_note  compliment_plain  compliment_cool  compliment_funny   \n",
       "0              232               844              467               467  \\\n",
       "1             1847              7054             3131              3131   \n",
       "2               66                96              119               119   \n",
       "3               12                16               26                26   \n",
       "4                1                 1                0                 0   \n",
       "5             1212              5696             2543              2543   \n",
       "6                0                 1                0                 0   \n",
       "\n",
       "   compliment_writer  compliment_photos  \n",
       "0                239                180  \n",
       "1               1521               1946  \n",
       "2                 35                 18  \n",
       "3                 10                  9  \n",
       "4                  0                  0  \n",
       "5                815                323  \n",
       "6                  0                  0  \n",
       "\n",
       "[7 rows x 22 columns]"
      ]
     },
     "execution_count": 6,
     "metadata": {},
     "output_type": "execute_result"
    }
   ],
   "source": [
    "yelp_user.head(7)"
   ]
  },
  {
   "cell_type": "markdown",
   "metadata": {},
   "source": [
    "## Caracteristicas"
   ]
  },
  {
   "cell_type": "code",
   "execution_count": 7,
   "metadata": {},
   "outputs": [
    {
     "data": {
      "text/plain": [
       "(2105597, 22)"
      ]
     },
     "execution_count": 7,
     "metadata": {},
     "output_type": "execute_result"
    }
   ],
   "source": [
    "yelp_user.shape"
   ]
  },
  {
   "cell_type": "code",
   "execution_count": 8,
   "metadata": {},
   "outputs": [
    {
     "data": {
      "text/plain": [
       "Index(['user_id', 'name', 'review_count', 'yelping_since', 'useful', 'funny',\n",
       "       'cool', 'elite', 'friends', 'fans', 'average_stars', 'compliment_hot',\n",
       "       'compliment_more', 'compliment_profile', 'compliment_cute',\n",
       "       'compliment_list', 'compliment_note', 'compliment_plain',\n",
       "       'compliment_cool', 'compliment_funny', 'compliment_writer',\n",
       "       'compliment_photos'],\n",
       "      dtype='object')"
      ]
     },
     "execution_count": 8,
     "metadata": {},
     "output_type": "execute_result"
    }
   ],
   "source": [
    "yelp_user.columns"
   ]
  },
  {
   "cell_type": "markdown",
   "metadata": {},
   "source": [
    "## Tipos de datos"
   ]
  },
  {
   "cell_type": "code",
   "execution_count": 9,
   "metadata": {},
   "outputs": [
    {
     "data": {
      "text/plain": [
       "user_id                object\n",
       "name                   object\n",
       "review_count            int64\n",
       "yelping_since          object\n",
       "useful                  int64\n",
       "funny                   int64\n",
       "cool                    int64\n",
       "elite                  object\n",
       "friends                object\n",
       "fans                    int64\n",
       "average_stars         float64\n",
       "compliment_hot          int64\n",
       "compliment_more         int64\n",
       "compliment_profile      int64\n",
       "compliment_cute         int64\n",
       "compliment_list         int64\n",
       "compliment_note         int64\n",
       "compliment_plain        int64\n",
       "compliment_cool         int64\n",
       "compliment_funny        int64\n",
       "compliment_writer       int64\n",
       "compliment_photos       int64\n",
       "dtype: object"
      ]
     },
     "execution_count": 9,
     "metadata": {},
     "output_type": "execute_result"
    }
   ],
   "source": [
    "yelp_user.dtypes"
   ]
  },
  {
   "cell_type": "markdown",
   "metadata": {},
   "source": [
    "## String vacios o faltantes"
   ]
  },
  {
   "cell_type": "code",
   "execution_count": 10,
   "metadata": {},
   "outputs": [
    {
     "data": {
      "text/plain": [
       "user_id                     0\n",
       "name                        0\n",
       "review_count                0\n",
       "yelping_since               0\n",
       "useful                      0\n",
       "funny                       0\n",
       "cool                        0\n",
       "elite                 1988836\n",
       "friends                     0\n",
       "fans                        0\n",
       "average_stars               0\n",
       "compliment_hot              0\n",
       "compliment_more             0\n",
       "compliment_profile          0\n",
       "compliment_cute             0\n",
       "compliment_list             0\n",
       "compliment_note             0\n",
       "compliment_plain            0\n",
       "compliment_cool             0\n",
       "compliment_funny            0\n",
       "compliment_writer           0\n",
       "compliment_photos           0\n",
       "dtype: int64"
      ]
     },
     "execution_count": 10,
     "metadata": {},
     "output_type": "execute_result"
    }
   ],
   "source": [
    "yelp_user.apply(lambda x: (x == \"\").sum())"
   ]
  },
  {
   "cell_type": "markdown",
   "metadata": {},
   "source": [
    "OBS: Consideramos eliminar estos valores faltantes, ya que elite corresponde a los años que el usuario fue miembro elite/premium"
   ]
  },
  {
   "cell_type": "code",
   "execution_count": 12,
   "metadata": {},
   "outputs": [
    {
     "name": "stdout",
     "output_type": "stream",
     "text": [
      "user_id               0\n",
      "name                  0\n",
      "review_count          0\n",
      "yelping_since         0\n",
      "useful                0\n",
      "funny                 0\n",
      "cool                  0\n",
      "elite                 0\n",
      "friends               0\n",
      "fans                  0\n",
      "average_stars         0\n",
      "compliment_hot        0\n",
      "compliment_more       0\n",
      "compliment_profile    0\n",
      "compliment_cute       0\n",
      "compliment_list       0\n",
      "compliment_note       0\n",
      "compliment_plain      0\n",
      "compliment_cool       0\n",
      "compliment_funny      0\n",
      "compliment_writer     0\n",
      "compliment_photos     0\n",
      "dtype: int64\n"
     ]
    }
   ],
   "source": [
    "# ELIMINACION DE FALTANTES/ STRING VACIOS EN ELITE\n",
    "yelp_user.replace(\"\", np.nan, inplace=True)\n",
    "\n",
    "yelp_user.dropna(subset=['elite'], inplace=True)\n",
    "\n",
    "print(yelp_user.isna().sum())"
   ]
  },
  {
   "cell_type": "markdown",
   "metadata": {},
   "source": [
    "## Nulos"
   ]
  },
  {
   "cell_type": "code",
   "execution_count": 13,
   "metadata": {},
   "outputs": [
    {
     "data": {
      "text/plain": [
       "user_id               0\n",
       "name                  0\n",
       "review_count          0\n",
       "yelping_since         0\n",
       "useful                0\n",
       "funny                 0\n",
       "cool                  0\n",
       "elite                 0\n",
       "friends               0\n",
       "fans                  0\n",
       "average_stars         0\n",
       "compliment_hot        0\n",
       "compliment_more       0\n",
       "compliment_profile    0\n",
       "compliment_cute       0\n",
       "compliment_list       0\n",
       "compliment_note       0\n",
       "compliment_plain      0\n",
       "compliment_cool       0\n",
       "compliment_funny      0\n",
       "compliment_writer     0\n",
       "compliment_photos     0\n",
       "dtype: int64"
      ]
     },
     "execution_count": 13,
     "metadata": {},
     "output_type": "execute_result"
    }
   ],
   "source": [
    "yelp_user.isnull().sum()"
   ]
  },
  {
   "cell_type": "markdown",
   "metadata": {},
   "source": [
    "## Duplicados"
   ]
  },
  {
   "cell_type": "code",
   "execution_count": 14,
   "metadata": {},
   "outputs": [
    {
     "data": {
      "text/plain": [
       "user_id                25563\n",
       "name                  102245\n",
       "review_count          114819\n",
       "yelping_since          25575\n",
       "useful                111491\n",
       "funny                 113073\n",
       "cool                  112294\n",
       "elite                 115406\n",
       "friends                26217\n",
       "fans                  116071\n",
       "average_stars         116501\n",
       "compliment_hot        115476\n",
       "compliment_more       116417\n",
       "compliment_profile    116422\n",
       "compliment_cute       116460\n",
       "compliment_list       116573\n",
       "compliment_note       115775\n",
       "compliment_plain      115128\n",
       "compliment_cool       115195\n",
       "compliment_funny      115195\n",
       "compliment_writer     115949\n",
       "compliment_photos     115769\n",
       "dtype: int64"
      ]
     },
     "execution_count": 14,
     "metadata": {},
     "output_type": "execute_result"
    }
   ],
   "source": [
    "duplicate_counts = yelp_user.apply(lambda col: col.duplicated().sum())\n",
    "\n",
    "duplicate_counts"
   ]
  },
  {
   "cell_type": "markdown",
   "metadata": {},
   "source": [
    "OBS: Se esperan muchos duplicados porque un mismo usuario puede dejar varias reviews y recibir reacciones similares que otros usuarios"
   ]
  },
  {
   "cell_type": "code",
   "execution_count": 16,
   "metadata": {},
   "outputs": [
    {
     "data": {
      "text/plain": [
       "25563"
      ]
     },
     "execution_count": 16,
     "metadata": {},
     "output_type": "execute_result"
    }
   ],
   "source": [
    "# Conteo duplicado global\n",
    "yelp_user.duplicated().sum()"
   ]
  },
  {
   "cell_type": "code",
   "execution_count": 17,
   "metadata": {},
   "outputs": [],
   "source": [
    "# Eliminacion de los duplicados globales\n",
    "yelp_user.drop_duplicates(inplace=True)"
   ]
  },
  {
   "cell_type": "markdown",
   "metadata": {},
   "source": [
    "OBS: Se decide eliminar duplicados globales al ser exactamente igual en todas las 22 columnas"
   ]
  },
  {
   "cell_type": "markdown",
   "metadata": {},
   "source": [
    "## Columnas No relevantes para modelo de ML"
   ]
  },
  {
   "cell_type": "code",
   "execution_count": 18,
   "metadata": {},
   "outputs": [],
   "source": [
    "yelp_user.drop(columns=['funny','cool','elite','friends','fans','compliment_hot','compliment_more','compliment_profile','compliment_cute','compliment_list','compliment_note','compliment_plain','compliment_cool','compliment_funny','compliment_writer','compliment_photos'], inplace= True)"
   ]
  },
  {
   "cell_type": "markdown",
   "metadata": {},
   "source": [
    "OBS: se decide eliminar estas columnas ya que son reacciones o caracteristicas entre usuarios que no aportan un insight preciso o fidedigno con respecto a un negocio, incluso un usuario puede marcar una reaccion por error hacia otro usuario"
   ]
  },
  {
   "cell_type": "code",
   "execution_count": 19,
   "metadata": {},
   "outputs": [
    {
     "data": {
      "text/plain": [
       "Index(['user_id', 'name', 'review_count', 'yelping_since', 'useful',\n",
       "       'average_stars'],\n",
       "      dtype='object')"
      ]
     },
     "execution_count": 19,
     "metadata": {},
     "output_type": "execute_result"
    }
   ],
   "source": [
    "yelp_user.columns"
   ]
  },
  {
   "cell_type": "code",
   "execution_count": 20,
   "metadata": {},
   "outputs": [
    {
     "data": {
      "text/html": [
       "<div>\n",
       "<style scoped>\n",
       "    .dataframe tbody tr th:only-of-type {\n",
       "        vertical-align: middle;\n",
       "    }\n",
       "\n",
       "    .dataframe tbody tr th {\n",
       "        vertical-align: top;\n",
       "    }\n",
       "\n",
       "    .dataframe thead th {\n",
       "        text-align: right;\n",
       "    }\n",
       "</style>\n",
       "<table border=\"1\" class=\"dataframe\">\n",
       "  <thead>\n",
       "    <tr style=\"text-align: right;\">\n",
       "      <th></th>\n",
       "      <th>user_id</th>\n",
       "      <th>name</th>\n",
       "      <th>review_count</th>\n",
       "      <th>yelping_since</th>\n",
       "      <th>useful</th>\n",
       "      <th>average_stars</th>\n",
       "    </tr>\n",
       "  </thead>\n",
       "  <tbody>\n",
       "    <tr>\n",
       "      <th>0</th>\n",
       "      <td>qVc8ODYU5SZjKXVBgXdI7w</td>\n",
       "      <td>Walker</td>\n",
       "      <td>585</td>\n",
       "      <td>2007-01-25 16:47:26</td>\n",
       "      <td>7217</td>\n",
       "      <td>3.91</td>\n",
       "    </tr>\n",
       "    <tr>\n",
       "      <th>1</th>\n",
       "      <td>j14WgRoU_-2ZE1aw1dXrJg</td>\n",
       "      <td>Daniel</td>\n",
       "      <td>4333</td>\n",
       "      <td>2009-01-25 04:35:42</td>\n",
       "      <td>43091</td>\n",
       "      <td>3.74</td>\n",
       "    </tr>\n",
       "    <tr>\n",
       "      <th>2</th>\n",
       "      <td>2WnXYQFK0hXEoTxPtV2zvg</td>\n",
       "      <td>Steph</td>\n",
       "      <td>665</td>\n",
       "      <td>2008-07-25 10:41:00</td>\n",
       "      <td>2086</td>\n",
       "      <td>3.32</td>\n",
       "    </tr>\n",
       "    <tr>\n",
       "      <th>3</th>\n",
       "      <td>SZDeASXq7o05mMNLshsdIA</td>\n",
       "      <td>Gwen</td>\n",
       "      <td>224</td>\n",
       "      <td>2005-11-29 04:38:33</td>\n",
       "      <td>512</td>\n",
       "      <td>4.27</td>\n",
       "    </tr>\n",
       "    <tr>\n",
       "      <th>5</th>\n",
       "      <td>q_QQ5kBBwlCcbL1s4NVK3g</td>\n",
       "      <td>Jane</td>\n",
       "      <td>1221</td>\n",
       "      <td>2005-03-14 20:26:35</td>\n",
       "      <td>14953</td>\n",
       "      <td>3.85</td>\n",
       "    </tr>\n",
       "    <tr>\n",
       "      <th>11</th>\n",
       "      <td>xoZvMJPDW6Q9pDAXI0e_Ww</td>\n",
       "      <td>Ryan</td>\n",
       "      <td>535</td>\n",
       "      <td>2009-05-27 06:12:10</td>\n",
       "      <td>1130</td>\n",
       "      <td>3.89</td>\n",
       "    </tr>\n",
       "    <tr>\n",
       "      <th>15</th>\n",
       "      <td>SgiBkhXeqIKl1PlFpZOycQ</td>\n",
       "      <td>Eugene</td>\n",
       "      <td>682</td>\n",
       "      <td>2006-08-25 16:47:25</td>\n",
       "      <td>1819</td>\n",
       "      <td>3.75</td>\n",
       "    </tr>\n",
       "    <tr>\n",
       "      <th>18</th>\n",
       "      <td>QF1Kuhs8iwLWANNZxebTow</td>\n",
       "      <td>Catherine</td>\n",
       "      <td>607</td>\n",
       "      <td>2009-04-27 20:25:54</td>\n",
       "      <td>4573</td>\n",
       "      <td>4.11</td>\n",
       "    </tr>\n",
       "    <tr>\n",
       "      <th>22</th>\n",
       "      <td>FT9CFS39sjZxVjCTrDHmdg</td>\n",
       "      <td>Stephanie</td>\n",
       "      <td>201</td>\n",
       "      <td>2010-06-14 21:44:28</td>\n",
       "      <td>555</td>\n",
       "      <td>3.52</td>\n",
       "    </tr>\n",
       "    <tr>\n",
       "      <th>23</th>\n",
       "      <td>MGPQVLsODMm9ZtYQW-g_OA</td>\n",
       "      <td>Jelena</td>\n",
       "      <td>1807</td>\n",
       "      <td>2008-01-19 22:50:00</td>\n",
       "      <td>17331</td>\n",
       "      <td>4.06</td>\n",
       "    </tr>\n",
       "  </tbody>\n",
       "</table>\n",
       "</div>"
      ],
      "text/plain": [
       "                   user_id       name  review_count        yelping_since   \n",
       "0   qVc8ODYU5SZjKXVBgXdI7w     Walker           585  2007-01-25 16:47:26  \\\n",
       "1   j14WgRoU_-2ZE1aw1dXrJg     Daniel          4333  2009-01-25 04:35:42   \n",
       "2   2WnXYQFK0hXEoTxPtV2zvg      Steph           665  2008-07-25 10:41:00   \n",
       "3   SZDeASXq7o05mMNLshsdIA       Gwen           224  2005-11-29 04:38:33   \n",
       "5   q_QQ5kBBwlCcbL1s4NVK3g       Jane          1221  2005-03-14 20:26:35   \n",
       "11  xoZvMJPDW6Q9pDAXI0e_Ww       Ryan           535  2009-05-27 06:12:10   \n",
       "15  SgiBkhXeqIKl1PlFpZOycQ     Eugene           682  2006-08-25 16:47:25   \n",
       "18  QF1Kuhs8iwLWANNZxebTow  Catherine           607  2009-04-27 20:25:54   \n",
       "22  FT9CFS39sjZxVjCTrDHmdg  Stephanie           201  2010-06-14 21:44:28   \n",
       "23  MGPQVLsODMm9ZtYQW-g_OA     Jelena          1807  2008-01-19 22:50:00   \n",
       "\n",
       "    useful  average_stars  \n",
       "0     7217           3.91  \n",
       "1    43091           3.74  \n",
       "2     2086           3.32  \n",
       "3      512           4.27  \n",
       "5    14953           3.85  \n",
       "11    1130           3.89  \n",
       "15    1819           3.75  \n",
       "18    4573           4.11  \n",
       "22     555           3.52  \n",
       "23   17331           4.06  "
      ]
     },
     "execution_count": 20,
     "metadata": {},
     "output_type": "execute_result"
    }
   ],
   "source": [
    "yelp_user.head(10)"
   ]
  },
  {
   "cell_type": "code",
   "execution_count": 31,
   "metadata": {},
   "outputs": [
    {
     "name": "stdout",
     "output_type": "stream",
     "text": [
      "La fecha más antigua en 'yelping_since' es: 2004-10-12 08:46:11\n"
     ]
    }
   ],
   "source": []
  },
  {
   "cell_type": "markdown",
   "metadata": {},
   "source": [
    "## OUTLIERS"
   ]
  },
  {
   "cell_type": "markdown",
   "metadata": {},
   "source": [
    "_______________"
   ]
  },
  {
   "cell_type": "code",
   "execution_count": 21,
   "metadata": {},
   "outputs": [
    {
     "data": {
      "text/html": [
       "<div>\n",
       "<style scoped>\n",
       "    .dataframe tbody tr th:only-of-type {\n",
       "        vertical-align: middle;\n",
       "    }\n",
       "\n",
       "    .dataframe tbody tr th {\n",
       "        vertical-align: top;\n",
       "    }\n",
       "\n",
       "    .dataframe thead th {\n",
       "        text-align: right;\n",
       "    }\n",
       "</style>\n",
       "<table border=\"1\" class=\"dataframe\">\n",
       "  <thead>\n",
       "    <tr style=\"text-align: right;\">\n",
       "      <th></th>\n",
       "      <th>review_count</th>\n",
       "      <th>useful</th>\n",
       "      <th>average_stars</th>\n",
       "    </tr>\n",
       "  </thead>\n",
       "  <tbody>\n",
       "    <tr>\n",
       "      <th>count</th>\n",
       "      <td>91198.000000</td>\n",
       "      <td>91198.000000</td>\n",
       "      <td>91198.000000</td>\n",
       "    </tr>\n",
       "    <tr>\n",
       "      <th>mean</th>\n",
       "      <td>224.615024</td>\n",
       "      <td>650.908244</td>\n",
       "      <td>3.975784</td>\n",
       "    </tr>\n",
       "    <tr>\n",
       "      <th>std</th>\n",
       "      <td>293.337644</td>\n",
       "      <td>2905.295965</td>\n",
       "      <td>0.358489</td>\n",
       "    </tr>\n",
       "    <tr>\n",
       "      <th>min</th>\n",
       "      <td>1.000000</td>\n",
       "      <td>0.000000</td>\n",
       "      <td>2.310000</td>\n",
       "    </tr>\n",
       "    <tr>\n",
       "      <th>25%</th>\n",
       "      <td>84.000000</td>\n",
       "      <td>91.000000</td>\n",
       "      <td>3.740000</td>\n",
       "    </tr>\n",
       "    <tr>\n",
       "      <th>50%</th>\n",
       "      <td>144.000000</td>\n",
       "      <td>196.000000</td>\n",
       "      <td>3.980000</td>\n",
       "    </tr>\n",
       "    <tr>\n",
       "      <th>75%</th>\n",
       "      <td>260.000000</td>\n",
       "      <td>462.000000</td>\n",
       "      <td>4.220000</td>\n",
       "    </tr>\n",
       "    <tr>\n",
       "      <th>max</th>\n",
       "      <td>17473.000000</td>\n",
       "      <td>206296.000000</td>\n",
       "      <td>5.000000</td>\n",
       "    </tr>\n",
       "  </tbody>\n",
       "</table>\n",
       "</div>"
      ],
      "text/plain": [
       "       review_count         useful  average_stars\n",
       "count  91198.000000   91198.000000   91198.000000\n",
       "mean     224.615024     650.908244       3.975784\n",
       "std      293.337644    2905.295965       0.358489\n",
       "min        1.000000       0.000000       2.310000\n",
       "25%       84.000000      91.000000       3.740000\n",
       "50%      144.000000     196.000000       3.980000\n",
       "75%      260.000000     462.000000       4.220000\n",
       "max    17473.000000  206296.000000       5.000000"
      ]
     },
     "execution_count": 21,
     "metadata": {},
     "output_type": "execute_result"
    }
   ],
   "source": [
    "# ESTADISTICAS DESCRIPTIVAS DE LAS COLUMNAS NUMERICAS\n",
    "yelp_user[['review_count', 'useful', 'average_stars']].describe()"
   ]
  },
  {
   "cell_type": "code",
   "execution_count": 24,
   "metadata": {},
   "outputs": [],
   "source": [
    "# Función para detectar outliers utilizando el IQR\n",
    "def detect_outliers_iqr(data, column):\n",
    "    Q1 = data[column].quantile(0.25)\n",
    "    Q3 = data[column].quantile(0.75)\n",
    "    IQR = Q3 - Q1\n",
    "    lower_bound = Q1 - 1.5 * IQR\n",
    "    upper_bound = Q3 + 1.5 * IQR\n",
    "    return data[(data[column] < lower_bound) | (data[column] > upper_bound)]\n",
    "\n",
    "# Detectar outliers en las columnas de interés\n",
    "outliers_review_count = detect_outliers_iqr(yelp_user, 'review_count')\n",
    "outliers_useful = detect_outliers_iqr(yelp_user, 'useful')\n",
    "outliers_average_stars = detect_outliers_iqr(yelp_user, 'average_stars')"
   ]
  },
  {
   "cell_type": "code",
   "execution_count": 27,
   "metadata": {},
   "outputs": [
    {
     "name": "stdout",
     "output_type": "stream",
     "text": [
      "Outliers en review_count:\n",
      "                        user_id      name  review_count        yelping_since   \n",
      "0        qVc8ODYU5SZjKXVBgXdI7w    Walker           585  2007-01-25 16:47:26  \\\n",
      "1        j14WgRoU_-2ZE1aw1dXrJg    Daniel          4333  2009-01-25 04:35:42   \n",
      "2        2WnXYQFK0hXEoTxPtV2zvg     Steph           665  2008-07-25 10:41:00   \n",
      "5        q_QQ5kBBwlCcbL1s4NVK3g      Jane          1221  2005-03-14 20:26:35   \n",
      "11       xoZvMJPDW6Q9pDAXI0e_Ww      Ryan           535  2009-05-27 06:12:10   \n",
      "...                         ...       ...           ...                  ...   \n",
      "1826262  miDc8Po6mLqWxyvXIQ4meg       Kev           614  2010-11-20 11:46:08   \n",
      "1829076  E9T0Irm2d52T2yh1r0DwEA     Susan           553  2012-10-29 04:58:51   \n",
      "1835121  BEEwA-hzBRPxMZi8ilRlMA     Megan           530  2012-02-07 20:49:38   \n",
      "1843592  vSVWzD6beYvHjwQ7-FkvWw       Tim           758  2012-10-11 16:40:53   \n",
      "1855349  -AL9mIJSpdWHQf4BBeDXgg  Mary Lou           907  2011-05-05 18:33:53   \n",
      "\n",
      "         useful  average_stars  \n",
      "0          7217           3.91  \n",
      "1         43091           3.74  \n",
      "2          2086           3.32  \n",
      "5         14953           3.85  \n",
      "11         1130           3.89  \n",
      "...         ...            ...  \n",
      "1826262    1034           4.11  \n",
      "1829076     232           4.20  \n",
      "1835121     809           3.99  \n",
      "1843592    1146           3.82  \n",
      "1855349     622           4.06  \n",
      "\n",
      "[7234 rows x 6 columns]\n"
     ]
    }
   ],
   "source": [
    "# Mostrar los resultados\n",
    "print(\"Outliers en review_count:\")\n",
    "print(outliers_review_count)\n"
   ]
  },
  {
   "cell_type": "code",
   "execution_count": 28,
   "metadata": {},
   "outputs": [
    {
     "name": "stdout",
     "output_type": "stream",
     "text": [
      "\n",
      "Outliers en useful:\n",
      "                        user_id     name  review_count        yelping_since   \n",
      "0        qVc8ODYU5SZjKXVBgXdI7w   Walker           585  2007-01-25 16:47:26  \\\n",
      "1        j14WgRoU_-2ZE1aw1dXrJg   Daniel          4333  2009-01-25 04:35:42   \n",
      "2        2WnXYQFK0hXEoTxPtV2zvg    Steph           665  2008-07-25 10:41:00   \n",
      "5        q_QQ5kBBwlCcbL1s4NVK3g     Jane          1221  2005-03-14 20:26:35   \n",
      "11       xoZvMJPDW6Q9pDAXI0e_Ww     Ryan           535  2009-05-27 06:12:10   \n",
      "...                         ...      ...           ...                  ...   \n",
      "1850942  ZQKrOHZSAW_DM-oS_kTXhg  Kristen           440  2018-08-12 04:30:04   \n",
      "1855847  h4TPrQW-YrCO12PwAIEWhQ      Tom           241  2016-01-17 22:56:14   \n",
      "1857565  6HoE50MDDxWnH5RA56Y5tg   Laurie           156  2011-07-30 20:33:03   \n",
      "1857971  jpnVlcNm6DgVeZPn8a1eqA   Hannah            90  2015-05-11 16:29:31   \n",
      "1872140  itsRFR4WWeExi-pS22C8Pw  Kristin           221  2013-10-04 06:11:38   \n",
      "\n",
      "         useful  average_stars  \n",
      "0          7217           3.91  \n",
      "1         43091           3.74  \n",
      "2          2086           3.32  \n",
      "5         14953           3.85  \n",
      "11         1130           3.89  \n",
      "...         ...            ...  \n",
      "1850942    1727           3.78  \n",
      "1855847    3208           4.42  \n",
      "1857565    3297           4.38  \n",
      "1857971    1250           4.18  \n",
      "1872140    1420           4.26  \n",
      "\n",
      "[10111 rows x 6 columns]\n"
     ]
    }
   ],
   "source": [
    "print(\"\\nOutliers en useful:\")\n",
    "print(outliers_useful)"
   ]
  },
  {
   "cell_type": "code",
   "execution_count": 29,
   "metadata": {},
   "outputs": [
    {
     "name": "stdout",
     "output_type": "stream",
     "text": [
      "\n",
      "Outliers en average_stars:\n",
      "                        user_id       name  review_count        yelping_since   \n",
      "50       IpLRJY4CP3fXtlEd8Y4GFQ      Robyn           518  2009-04-11 14:35:46  \\\n",
      "173      0kSXMbNFo7mdwTPj4iQv9A     Archie          1022  2008-11-25 08:46:24   \n",
      "391      Qa2NoSc6DphQArihBgY9Gg     Brooke          1030  2007-05-28 19:12:41   \n",
      "1595     EP8o8JnQSI0WEkeodwA8lA      Bobby           613  2010-04-09 22:16:16   \n",
      "2487     oSeE_p_gYxI82APPWJhJjg        Jim           324  2008-01-08 01:55:03   \n",
      "...                         ...        ...           ...                  ...   \n",
      "1864253  9V8zuAWjgfiNtvOWvwew0A  Banadoura            42  2012-10-21 16:56:10   \n",
      "1864851  E3HZMU0PBVwR2E4ieTHWhg      Pablo            51  2012-07-02 19:59:37   \n",
      "1873148  ahzImRczNy7XPN3tuab3ag        Kat           300  2015-08-29 19:43:33   \n",
      "1874008  Rw39nws0uNobEP0Xbkxmtw      Sadia           112  2014-12-20 23:27:36   \n",
      "1877731  UZ85lUXZSIoTVEAlmfr-1A    Xonatia            42  2016-10-14 16:04:02   \n",
      "\n",
      "         useful  average_stars  \n",
      "50         1325           2.95  \n",
      "173       13103           2.98  \n",
      "391        4718           2.94  \n",
      "1595       3831           2.77  \n",
      "2487        999           2.70  \n",
      "...         ...            ...  \n",
      "1864253      70           2.87  \n",
      "1864851      24           2.54  \n",
      "1873148     413           2.82  \n",
      "1874008      63           2.98  \n",
      "1877731      42           4.98  \n",
      "\n",
      "[607 rows x 6 columns]\n"
     ]
    }
   ],
   "source": [
    "print(\"\\nOutliers en average_stars:\")\n",
    "print(outliers_average_stars)"
   ]
  },
  {
   "cell_type": "markdown",
   "metadata": {},
   "source": [
    "OBS: Se consider eliminar los outliers de useful que es un atributo mas bien subjetivo en comparacion a los review count y el puntaje de stars, ya que por simple simpatia los usuarios pueden llegar a marcar dicha reaccion en el comentario de un usuario"
   ]
  },
  {
   "cell_type": "markdown",
   "metadata": {},
   "source": [
    "## Visualizacion outliers con boxplt"
   ]
  },
  {
   "cell_type": "code",
   "execution_count": 30,
   "metadata": {},
   "outputs": [
    {
     "data": {
      "image/png": "[encoded data removed]",
      "text/plain": [
       "<Figure size 1000x500 with 1 Axes>"
      ]
     },
     "metadata": {},
     "output_type": "display_data"
    },
    {
     "data": {
      "image/png": "[encoded data removed]",
      "text/plain": [
       "<Figure size 1000x500 with 1 Axes>"
      ]
     },
     "metadata": {},
     "output_type": "display_data"
    },
    {
     "data": {
      "image/png": "[encoded data removed]",
      "text/plain": [
       "<Figure size 1000x500 with 1 Axes>"
      ]
     },
     "metadata": {},
     "output_type": "display_data"
    }
   ],
   "source": [
    "plt.figure(figsize=(10, 5))\n",
    "plt.boxplot(yelp_user['review_count'], vert=False)\n",
    "plt.title('Boxplot de review_count')\n",
    "plt.show()\n",
    "\n",
    "# Boxplot para 'average_stars'\n",
    "plt.figure(figsize=(10, 5))\n",
    "plt.boxplot(yelp_user['average_stars'], vert=False)\n",
    "plt.title('Boxplot de average_stars')\n",
    "plt.show()\n",
    "\n",
    "# Boxplot para 'useful'\n",
    "plt.figure(figsize=(10, 5))\n",
    "plt.boxplot(yelp_user['useful'], vert=False)\n",
    "plt.title('Boxplot de useful')\n",
    "plt.show()\n",
    "\n"
   ]
  },
  {
   "cell_type": "code",
   "execution_count": 32,
   "metadata": {},
   "outputs": [
    {
     "name": "stdout",
     "output_type": "stream",
     "text": [
      "La fecha más antigua en 'yelping_since' es: 2004-10-12 08:46:11\n"
     ]
    }
   ],
   "source": [
    "yelp_user['yelping_since'] = pd.to_datetime(yelp_user['yelping_since'])\n",
    "\n",
    "# Encontrar la fecha más antigua\n",
    "fecha_mas_antigua = yelp_user['yelping_since'].min()\n",
    "\n",
    "# Mostrar el resultado\n",
    "print(f\"La fecha más antigua en 'yelping_since' es: {fecha_mas_antigua}\")"
   ]
  },
  {
   "cell_type": "code",
   "execution_count": 33,
   "metadata": {},
   "outputs": [
    {
     "name": "stdout",
     "output_type": "stream",
     "text": [
      "El valor mínimo de 'average_stars' es: 2.31\n",
      "El valor máximo de 'average_stars' es: 5.0\n"
     ]
    }
   ],
   "source": [
    "# Encontrar el valor mínimo de average_stars\n",
    "min_stars = yelp_user['average_stars'].min()\n",
    "\n",
    "# Encontrar el valor máximo de average_stars\n",
    "max_stars = yelp_user['average_stars'].max()\n",
    "\n",
    "# Mostrar los resultados\n",
    "print(f\"El valor mínimo de 'average_stars' es: {min_stars}\")\n",
    "print(f\"El valor máximo de 'average_stars' es: {max_stars}\")"
   ]
  },
  {
   "cell_type": "markdown",
   "metadata": {},
   "source": [
    "### CONSIDERACIONES:\n",
    "- Si bien se observa usuarios con gran numero de review count, es debido a que hay registros de actividad desde el 2004.\n",
    "- En cuanto al conteo de estrellas el rango de mantiene en el rango normal de 1 a 5.\n",
    "- El boxplot de reacciones marcadas como useful muestra la variacion mas alta, indicando su subjetividad debido al comportamiento de los usuarios, por lo que se considera descartarla como informacion importante."
   ]
  }
 ],
 "metadata": {
  "kernelspec": {
   "display_name": "Python 3",
   "language": "python",
   "name": "python3"
  },
  "language_info": {
   "codemirror_mode": {
    "name": "ipython",
    "version": 3
   },
   "file_extension": ".py",
   "mimetype": "text/x-python",
   "name": "python",
   "nbconvert_exporter": "python",
   "pygments_lexer": "ipython3",
   "version": "3.10.5"
  }
 },
 "nbformat": 4,
 "nbformat_minor": 2
}
